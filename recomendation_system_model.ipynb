{
  "cells": [
    {
      "attachments": {},
      "cell_type": "markdown",
      "metadata": {},
      "source": [
        "# <center> **Разбор кейса ML-инженера**"
      ]
    },
    {
      "attachments": {},
      "cell_type": "markdown",
      "metadata": {
        "id": "Zf52Pxm2hiom"
      },
      "source": [
        "## **Обучим и протестируем модель**"
      ]
    },
    {
      "cell_type": "code",
      "execution_count": 5,
      "metadata": {
        "colab": {
          "base_uri": "https://localhost:8080/"
        },
        "id": "wEgni61ptDR7",
        "outputId": "4d9d62cf-6edf-4003-895e-3c833a2b5518"
      },
      "outputs": [],
      "source": [
        "#!pip install lightfm"
      ]
    },
    {
      "cell_type": "code",
      "execution_count": 6,
      "metadata": {
        "id": "O3C_SMz6hiot"
      },
      "outputs": [],
      "source": [
        "import numpy as np\n",
        "import pandas as pd\n",
        "import scipy.sparse as sparse # разреженные матрицы\n",
        "from lightfm import LightFM # модель\n",
        "from lightfm.cross_validation import random_train_test_split # разделение выборки кросвалидация\n",
        "from lightfm.evaluation import precision_at_k, recall_at_k # метрики\n",
        "import pickle # для сохранения результатов"
      ]
    },
    {
      "cell_type": "code",
      "execution_count": 7,
      "metadata": {
        "colab": {
          "base_uri": "https://localhost:8080/",
          "height": 380
        },
        "id": "qfCOflZnhiou",
        "outputId": "aa55bacd-ccab-45c0-e483-ef59d2698d94"
      },
      "outputs": [],
      "source": [
        "# прочитаем данные\n",
        "ratings = pd.read_csv('data/ratings.csv') \n",
        "books = pd.read_csv('data/books.csv') \n",
        "tags = pd.read_csv('data/tags_cleaned.csv') # названия тегов\n",
        "book_tags = pd.read_csv('data/book_tags.csv') # соответствие тегов книгам"
      ]
    },
    {
      "attachments": {},
      "cell_type": "markdown",
      "metadata": {},
      "source": [
        "Теги взяты из сервиса *Goodreads*"
      ]
    },
    {
      "cell_type": "code",
      "execution_count": 8,
      "metadata": {},
      "outputs": [
        {
          "data": {
            "text/html": [
              "<div>\n",
              "<style scoped>\n",
              "    .dataframe tbody tr th:only-of-type {\n",
              "        vertical-align: middle;\n",
              "    }\n",
              "\n",
              "    .dataframe tbody tr th {\n",
              "        vertical-align: top;\n",
              "    }\n",
              "\n",
              "    .dataframe thead th {\n",
              "        text-align: right;\n",
              "    }\n",
              "</style>\n",
              "<table border=\"1\" class=\"dataframe\">\n",
              "  <thead>\n",
              "    <tr style=\"text-align: right;\">\n",
              "      <th></th>\n",
              "      <th>goodreads_book_id</th>\n",
              "      <th>tag_id</th>\n",
              "      <th>count</th>\n",
              "    </tr>\n",
              "  </thead>\n",
              "  <tbody>\n",
              "    <tr>\n",
              "      <th>0</th>\n",
              "      <td>1</td>\n",
              "      <td>30574</td>\n",
              "      <td>167697</td>\n",
              "    </tr>\n",
              "    <tr>\n",
              "      <th>1</th>\n",
              "      <td>1</td>\n",
              "      <td>11305</td>\n",
              "      <td>37174</td>\n",
              "    </tr>\n",
              "  </tbody>\n",
              "</table>\n",
              "</div>"
            ],
            "text/plain": [
              "   goodreads_book_id  tag_id   count\n",
              "0                  1   30574  167697\n",
              "1                  1   11305   37174"
            ]
          },
          "execution_count": 8,
          "metadata": {},
          "output_type": "execute_result"
        }
      ],
      "source": [
        "book_tags.head(2)"
      ]
    },
    {
      "cell_type": "code",
      "execution_count": 9,
      "metadata": {
        "id": "u1TBykVuhiov"
      },
      "outputs": [
        {
          "data": {
            "text/html": [
              "<div>\n",
              "<style scoped>\n",
              "    .dataframe tbody tr th:only-of-type {\n",
              "        vertical-align: middle;\n",
              "    }\n",
              "\n",
              "    .dataframe tbody tr th {\n",
              "        vertical-align: top;\n",
              "    }\n",
              "\n",
              "    .dataframe thead th {\n",
              "        text-align: right;\n",
              "    }\n",
              "</style>\n",
              "<table border=\"1\" class=\"dataframe\">\n",
              "  <thead>\n",
              "    <tr style=\"text-align: right;\">\n",
              "      <th></th>\n",
              "      <th>book_id</th>\n",
              "      <th>goodreads_book_id</th>\n",
              "      <th>best_book_id</th>\n",
              "      <th>work_id</th>\n",
              "      <th>books_count</th>\n",
              "      <th>isbn</th>\n",
              "      <th>isbn13</th>\n",
              "      <th>authors</th>\n",
              "      <th>original_publication_year</th>\n",
              "      <th>original_title</th>\n",
              "      <th>...</th>\n",
              "      <th>ratings_count</th>\n",
              "      <th>work_ratings_count</th>\n",
              "      <th>work_text_reviews_count</th>\n",
              "      <th>ratings_1</th>\n",
              "      <th>ratings_2</th>\n",
              "      <th>ratings_3</th>\n",
              "      <th>ratings_4</th>\n",
              "      <th>ratings_5</th>\n",
              "      <th>image_url</th>\n",
              "      <th>small_image_url</th>\n",
              "    </tr>\n",
              "  </thead>\n",
              "  <tbody>\n",
              "    <tr>\n",
              "      <th>0</th>\n",
              "      <td>1</td>\n",
              "      <td>2767052</td>\n",
              "      <td>2767052</td>\n",
              "      <td>2792775</td>\n",
              "      <td>272</td>\n",
              "      <td>439023483</td>\n",
              "      <td>9.780439e+12</td>\n",
              "      <td>Suzanne Collins</td>\n",
              "      <td>2008.0</td>\n",
              "      <td>The Hunger Games</td>\n",
              "      <td>...</td>\n",
              "      <td>4780653</td>\n",
              "      <td>4942365</td>\n",
              "      <td>155254</td>\n",
              "      <td>66715</td>\n",
              "      <td>127936</td>\n",
              "      <td>560092</td>\n",
              "      <td>1481305</td>\n",
              "      <td>2706317</td>\n",
              "      <td>https://images.gr-assets.com/books/1447303603m...</td>\n",
              "      <td>https://images.gr-assets.com/books/1447303603s...</td>\n",
              "    </tr>\n",
              "    <tr>\n",
              "      <th>1</th>\n",
              "      <td>2</td>\n",
              "      <td>3</td>\n",
              "      <td>3</td>\n",
              "      <td>4640799</td>\n",
              "      <td>491</td>\n",
              "      <td>439554934</td>\n",
              "      <td>9.780440e+12</td>\n",
              "      <td>J.K. Rowling, Mary GrandPré</td>\n",
              "      <td>1997.0</td>\n",
              "      <td>Harry Potter and the Philosopher's Stone</td>\n",
              "      <td>...</td>\n",
              "      <td>4602479</td>\n",
              "      <td>4800065</td>\n",
              "      <td>75867</td>\n",
              "      <td>75504</td>\n",
              "      <td>101676</td>\n",
              "      <td>455024</td>\n",
              "      <td>1156318</td>\n",
              "      <td>3011543</td>\n",
              "      <td>https://images.gr-assets.com/books/1474154022m...</td>\n",
              "      <td>https://images.gr-assets.com/books/1474154022s...</td>\n",
              "    </tr>\n",
              "  </tbody>\n",
              "</table>\n",
              "<p>2 rows × 23 columns</p>\n",
              "</div>"
            ],
            "text/plain": [
              "   book_id  goodreads_book_id  best_book_id  work_id  books_count       isbn  \\\n",
              "0        1            2767052       2767052  2792775          272  439023483   \n",
              "1        2                  3             3  4640799          491  439554934   \n",
              "\n",
              "         isbn13                      authors  original_publication_year  \\\n",
              "0  9.780439e+12              Suzanne Collins                     2008.0   \n",
              "1  9.780440e+12  J.K. Rowling, Mary GrandPré                     1997.0   \n",
              "\n",
              "                             original_title  ... ratings_count  \\\n",
              "0                          The Hunger Games  ...       4780653   \n",
              "1  Harry Potter and the Philosopher's Stone  ...       4602479   \n",
              "\n",
              "  work_ratings_count  work_text_reviews_count  ratings_1  ratings_2  \\\n",
              "0            4942365                   155254      66715     127936   \n",
              "1            4800065                    75867      75504     101676   \n",
              "\n",
              "   ratings_3  ratings_4  ratings_5  \\\n",
              "0     560092    1481305    2706317   \n",
              "1     455024    1156318    3011543   \n",
              "\n",
              "                                           image_url  \\\n",
              "0  https://images.gr-assets.com/books/1447303603m...   \n",
              "1  https://images.gr-assets.com/books/1474154022m...   \n",
              "\n",
              "                                     small_image_url  \n",
              "0  https://images.gr-assets.com/books/1447303603s...  \n",
              "1  https://images.gr-assets.com/books/1474154022s...  \n",
              "\n",
              "[2 rows x 23 columns]"
            ]
          },
          "execution_count": 9,
          "metadata": {},
          "output_type": "execute_result"
        }
      ],
      "source": [
        "books.head(2)"
      ]
    },
    {
      "attachments": {},
      "cell_type": "markdown",
      "metadata": {},
      "source": [
        "### **ПРЕДОБРАБОТКА ДАННЫХ**"
      ]
    },
    {
      "attachments": {},
      "cell_type": "markdown",
      "metadata": {},
      "source": [
        "В датафреймах *book_tags* и *books* есть два идентификатора: `goodreads_book_id` — от сервиса *Goodreads* и `book_id`, который привязан к нашей таблице. Создадим словарь, с помощью которого сможем находить `book_id` книги по `goodreads_book_id`."
      ]
    },
    {
      "cell_type": "code",
      "execution_count": 10,
      "metadata": {
        "id": "WVIwztA5hiov"
      },
      "outputs": [],
      "source": [
        "mapper = dict(zip(books.goodreads_book_id,books.book_id))"
      ]
    },
    {
      "attachments": {},
      "cell_type": "markdown",
      "metadata": {},
      "source": [
        "Теперь применим этот словарь, чтобы добавить *id* книги в датафрейм *book_tags*."
      ]
    },
    {
      "cell_type": "code",
      "execution_count": 11,
      "metadata": {
        "id": "CxVDaPkKhiow"
      },
      "outputs": [],
      "source": [
        "# оставим только те теги, у которых есть определение\n",
        "book_tags = book_tags[book_tags.tag_id.isin(tags.tag_id)]\n",
        "# добавим ид книги с помощью словаря, созданного ранее\n",
        "book_tags['id'] = book_tags.goodreads_book_id.apply(lambda x: mapper[x])"
      ]
    },
    {
      "cell_type": "code",
      "execution_count": 12,
      "metadata": {},
      "outputs": [
        {
          "data": {
            "text/html": [
              "<div>\n",
              "<style scoped>\n",
              "    .dataframe tbody tr th:only-of-type {\n",
              "        vertical-align: middle;\n",
              "    }\n",
              "\n",
              "    .dataframe tbody tr th {\n",
              "        vertical-align: top;\n",
              "    }\n",
              "\n",
              "    .dataframe thead th {\n",
              "        text-align: right;\n",
              "    }\n",
              "</style>\n",
              "<table border=\"1\" class=\"dataframe\">\n",
              "  <thead>\n",
              "    <tr style=\"text-align: right;\">\n",
              "      <th></th>\n",
              "      <th>tag_id</th>\n",
              "      <th>tag_name</th>\n",
              "    </tr>\n",
              "  </thead>\n",
              "  <tbody>\n",
              "    <tr>\n",
              "      <th>0</th>\n",
              "      <td>509</td>\n",
              "      <td>19th-century</td>\n",
              "    </tr>\n",
              "    <tr>\n",
              "      <th>1</th>\n",
              "      <td>923</td>\n",
              "      <td>20th-century</td>\n",
              "    </tr>\n",
              "    <tr>\n",
              "      <th>2</th>\n",
              "      <td>941</td>\n",
              "      <td>21st-century</td>\n",
              "    </tr>\n",
              "    <tr>\n",
              "      <th>3</th>\n",
              "      <td>1499</td>\n",
              "      <td>abuse</td>\n",
              "    </tr>\n",
              "    <tr>\n",
              "      <th>4</th>\n",
              "      <td>1540</td>\n",
              "      <td>action</td>\n",
              "    </tr>\n",
              "    <tr>\n",
              "      <th>...</th>\n",
              "      <td>...</td>\n",
              "      <td>...</td>\n",
              "    </tr>\n",
              "    <tr>\n",
              "      <th>329</th>\n",
              "      <td>33114</td>\n",
              "      <td>young-adult</td>\n",
              "    </tr>\n",
              "    <tr>\n",
              "      <th>330</th>\n",
              "      <td>33121</td>\n",
              "      <td>young-adult-fantasy</td>\n",
              "    </tr>\n",
              "    <tr>\n",
              "      <th>331</th>\n",
              "      <td>33124</td>\n",
              "      <td>young-adult-fiction</td>\n",
              "    </tr>\n",
              "    <tr>\n",
              "      <th>332</th>\n",
              "      <td>33165</td>\n",
              "      <td>youth</td>\n",
              "    </tr>\n",
              "    <tr>\n",
              "      <th>333</th>\n",
              "      <td>33268</td>\n",
              "      <td>zombies</td>\n",
              "    </tr>\n",
              "  </tbody>\n",
              "</table>\n",
              "<p>334 rows × 2 columns</p>\n",
              "</div>"
            ],
            "text/plain": [
              "     tag_id             tag_name\n",
              "0       509         19th-century\n",
              "1       923         20th-century\n",
              "2       941         21st-century\n",
              "3      1499                abuse\n",
              "4      1540               action\n",
              "..      ...                  ...\n",
              "329   33114          young-adult\n",
              "330   33121  young-adult-fantasy\n",
              "331   33124  young-adult-fiction\n",
              "332   33165                youth\n",
              "333   33268              zombies\n",
              "\n",
              "[334 rows x 2 columns]"
            ]
          },
          "execution_count": 12,
          "metadata": {},
          "output_type": "execute_result"
        }
      ],
      "source": [
        "tags"
      ]
    },
    {
      "cell_type": "code",
      "execution_count": 13,
      "metadata": {},
      "outputs": [
        {
          "data": {
            "text/html": [
              "<div>\n",
              "<style scoped>\n",
              "    .dataframe tbody tr th:only-of-type {\n",
              "        vertical-align: middle;\n",
              "    }\n",
              "\n",
              "    .dataframe tbody tr th {\n",
              "        vertical-align: top;\n",
              "    }\n",
              "\n",
              "    .dataframe thead th {\n",
              "        text-align: right;\n",
              "    }\n",
              "</style>\n",
              "<table border=\"1\" class=\"dataframe\">\n",
              "  <thead>\n",
              "    <tr style=\"text-align: right;\">\n",
              "      <th></th>\n",
              "      <th>goodreads_book_id</th>\n",
              "      <th>tag_id</th>\n",
              "      <th>count</th>\n",
              "      <th>id</th>\n",
              "    </tr>\n",
              "  </thead>\n",
              "  <tbody>\n",
              "    <tr>\n",
              "      <th>1</th>\n",
              "      <td>1</td>\n",
              "      <td>11305</td>\n",
              "      <td>37174</td>\n",
              "      <td>27</td>\n",
              "    </tr>\n",
              "    <tr>\n",
              "      <th>4</th>\n",
              "      <td>1</td>\n",
              "      <td>33114</td>\n",
              "      <td>12716</td>\n",
              "      <td>27</td>\n",
              "    </tr>\n",
              "    <tr>\n",
              "      <th>5</th>\n",
              "      <td>1</td>\n",
              "      <td>11743</td>\n",
              "      <td>9954</td>\n",
              "      <td>27</td>\n",
              "    </tr>\n",
              "    <tr>\n",
              "      <th>6</th>\n",
              "      <td>1</td>\n",
              "      <td>14017</td>\n",
              "      <td>7169</td>\n",
              "      <td>27</td>\n",
              "    </tr>\n",
              "    <tr>\n",
              "      <th>10</th>\n",
              "      <td>1</td>\n",
              "      <td>27199</td>\n",
              "      <td>3857</td>\n",
              "      <td>27</td>\n",
              "    </tr>\n",
              "  </tbody>\n",
              "</table>\n",
              "</div>"
            ],
            "text/plain": [
              "    goodreads_book_id  tag_id  count  id\n",
              "1                   1   11305  37174  27\n",
              "4                   1   33114  12716  27\n",
              "5                   1   11743   9954  27\n",
              "6                   1   14017   7169  27\n",
              "10                  1   27199   3857  27"
            ]
          },
          "execution_count": 13,
          "metadata": {},
          "output_type": "execute_result"
        }
      ],
      "source": [
        "book_tags.head()"
      ]
    },
    {
      "attachments": {},
      "cell_type": "markdown",
      "metadata": {},
      "source": [
        "![image.png](data:image/png;base64,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)\u0000"
      ]
    },
    {
      "attachments": {},
      "cell_type": "markdown",
      "metadata": {},
      "source": [
        "> Как вы уже знаете, для работы с моделями в библиотеке *LightFM* необходимо создать разрежённые матрицы. Для их построения мы будем использовать библиотеку *scipy*.\n",
        "\n",
        "Разрежённые матрицы в модуле *scipy* могут иметь несколько форматов:\n",
        "\n",
        "* **Список координат (Coordinate List, COO)** — самый простой способ составления разрежённой матрицы. Согласно этому представлению, компьютер хранит массивы строк и столбцов ненулевых значений, а также сами ненулевые значения. В *COO* данные представлены в виде `строка`, `столбец`, `значение`.\n",
        "\n",
        "* **Cжатое хранение строк (Compressed Sparse Row, CSR)** подразумевает подсчёт кумулятивной суммы количества элементов в строке вместо индексов строк.\n",
        "\n",
        "* **Сжатое хранение столбцов (Compressed Sparse Column, CSС)** подразумевает подсчёт кумулятивной суммы количества элементов в столбце.\n",
        "\n",
        "> **Примечание**. Подробнее узнать о различиях этих форматов можно [здесь](https://python-school.ru/blog/sparse-matrix-scipy/).\n",
        "\n",
        "Мы будем хранить данные в самом простом формате — *COO* (координатный формат представления данных). То есть вместо хранения всех значений, которые включают и нулевые, мы будем хранить только ненулевые значения и их индексы."
      ]
    },
    {
      "attachments": {},
      "cell_type": "markdown",
      "metadata": {},
      "source": [
        "#### Пример для понимания разреженных матриц."
      ]
    },
    {
      "attachments": {},
      "cell_type": "markdown",
      "metadata": {},
      "source": [
        "_________________"
      ]
    },
    {
      "cell_type": "code",
      "execution_count": 14,
      "metadata": {},
      "outputs": [
        {
          "data": {
            "text/plain": [
              "array([[0, 1, 0, 0, 0, 0, 0],\n",
              "       [0, 0, 2, 1, 0, 0, 1],\n",
              "       [0, 0, 0, 0, 0, 0, 0],\n",
              "       [0, 0, 0, 1, 0, 3, 0]])"
            ]
          },
          "execution_count": 14,
          "metadata": {},
          "output_type": "execute_result"
        }
      ],
      "source": [
        "import numpy as np\n",
        "\n",
        "# имеем некоторую матрицу\n",
        "np.array([\n",
        "    [0, 1, 0, 0, 0, 0, 0],\n",
        "    [0, 0, 2, 1, 0, 0, 1],\n",
        "    [0, 0, 0, 0, 0, 0, 0],\n",
        "    [0, 0, 0, 1, 0, 3, 0],\n",
        "])\n",
        "\n",
        "# создание разреженной матрицы из общей матрицы сочетаний\n",
        "# sparse.coo_matrix(array)"
      ]
    },
    {
      "cell_type": "code",
      "execution_count": 15,
      "metadata": {},
      "outputs": [],
      "source": [
        "# создание разреженной матрицы с использованием извесных координат (наш случай)\n",
        "rows = [0, 1, 1, 1, 3 ,3]\n",
        "cols = [1, 2, 3, 6, 3, 5]\n",
        "data = [1, 2, 1, 1, 1, 3]\n",
        "\n",
        "coo = sparse.coo_matrix((data, (rows, cols)))"
      ]
    },
    {
      "cell_type": "code",
      "execution_count": 16,
      "metadata": {},
      "outputs": [
        {
          "data": {
            "text/plain": [
              "<4x7 sparse matrix of type '<class 'numpy.int64'>'\n",
              "\twith 6 stored elements in COOrdinate format>"
            ]
          },
          "execution_count": 16,
          "metadata": {},
          "output_type": "execute_result"
        }
      ],
      "source": [
        "coo"
      ]
    },
    {
      "attachments": {},
      "cell_type": "markdown",
      "metadata": {},
      "source": [
        "Разреженная матрица представляет собой список координат и значений, находящихся по этим координатам."
      ]
    },
    {
      "cell_type": "code",
      "execution_count": 17,
      "metadata": {},
      "outputs": [
        {
          "name": "stdout",
          "output_type": "stream",
          "text": [
            "  (0, 1)\t1\n",
            "  (1, 2)\t2\n",
            "  (1, 3)\t1\n",
            "  (1, 6)\t1\n",
            "  (3, 3)\t1\n",
            "  (3, 5)\t3\n"
          ]
        }
      ],
      "source": [
        "print(coo)"
      ]
    },
    {
      "attachments": {},
      "cell_type": "markdown",
      "metadata": {},
      "source": [
        "_____________"
      ]
    },
    {
      "attachments": {},
      "cell_type": "markdown",
      "metadata": {},
      "source": [
        "#### Создание разреженной матрицы оценок книг пользователями"
      ]
    },
    {
      "cell_type": "code",
      "execution_count": 18,
      "metadata": {},
      "outputs": [
        {
          "data": {
            "text/html": [
              "<div>\n",
              "<style scoped>\n",
              "    .dataframe tbody tr th:only-of-type {\n",
              "        vertical-align: middle;\n",
              "    }\n",
              "\n",
              "    .dataframe tbody tr th {\n",
              "        vertical-align: top;\n",
              "    }\n",
              "\n",
              "    .dataframe thead th {\n",
              "        text-align: right;\n",
              "    }\n",
              "</style>\n",
              "<table border=\"1\" class=\"dataframe\">\n",
              "  <thead>\n",
              "    <tr style=\"text-align: right;\">\n",
              "      <th></th>\n",
              "      <th>goodreads_book_id</th>\n",
              "      <th>tag_id</th>\n",
              "      <th>count</th>\n",
              "      <th>id</th>\n",
              "    </tr>\n",
              "  </thead>\n",
              "  <tbody>\n",
              "    <tr>\n",
              "      <th>1</th>\n",
              "      <td>1</td>\n",
              "      <td>11305</td>\n",
              "      <td>37174</td>\n",
              "      <td>27</td>\n",
              "    </tr>\n",
              "    <tr>\n",
              "      <th>4</th>\n",
              "      <td>1</td>\n",
              "      <td>33114</td>\n",
              "      <td>12716</td>\n",
              "      <td>27</td>\n",
              "    </tr>\n",
              "    <tr>\n",
              "      <th>5</th>\n",
              "      <td>1</td>\n",
              "      <td>11743</td>\n",
              "      <td>9954</td>\n",
              "      <td>27</td>\n",
              "    </tr>\n",
              "    <tr>\n",
              "      <th>6</th>\n",
              "      <td>1</td>\n",
              "      <td>14017</td>\n",
              "      <td>7169</td>\n",
              "      <td>27</td>\n",
              "    </tr>\n",
              "    <tr>\n",
              "      <th>10</th>\n",
              "      <td>1</td>\n",
              "      <td>27199</td>\n",
              "      <td>3857</td>\n",
              "      <td>27</td>\n",
              "    </tr>\n",
              "    <tr>\n",
              "      <th>...</th>\n",
              "      <td>...</td>\n",
              "      <td>...</td>\n",
              "      <td>...</td>\n",
              "      <td>...</td>\n",
              "    </tr>\n",
              "    <tr>\n",
              "      <th>999877</th>\n",
              "      <td>33288638</td>\n",
              "      <td>9886</td>\n",
              "      <td>10</td>\n",
              "      <td>8892</td>\n",
              "    </tr>\n",
              "    <tr>\n",
              "      <th>999879</th>\n",
              "      <td>33288638</td>\n",
              "      <td>3358</td>\n",
              "      <td>10</td>\n",
              "      <td>8892</td>\n",
              "    </tr>\n",
              "    <tr>\n",
              "      <th>999880</th>\n",
              "      <td>33288638</td>\n",
              "      <td>1679</td>\n",
              "      <td>10</td>\n",
              "      <td>8892</td>\n",
              "    </tr>\n",
              "    <tr>\n",
              "      <th>999889</th>\n",
              "      <td>33288638</td>\n",
              "      <td>1659</td>\n",
              "      <td>9</td>\n",
              "      <td>8892</td>\n",
              "    </tr>\n",
              "    <tr>\n",
              "      <th>999890</th>\n",
              "      <td>33288638</td>\n",
              "      <td>29316</td>\n",
              "      <td>9</td>\n",
              "      <td>8892</td>\n",
              "    </tr>\n",
              "  </tbody>\n",
              "</table>\n",
              "<p>300738 rows × 4 columns</p>\n",
              "</div>"
            ],
            "text/plain": [
              "        goodreads_book_id  tag_id  count    id\n",
              "1                       1   11305  37174    27\n",
              "4                       1   33114  12716    27\n",
              "5                       1   11743   9954    27\n",
              "6                       1   14017   7169    27\n",
              "10                      1   27199   3857    27\n",
              "...                   ...     ...    ...   ...\n",
              "999877           33288638    9886     10  8892\n",
              "999879           33288638    3358     10  8892\n",
              "999880           33288638    1679     10  8892\n",
              "999889           33288638    1659      9  8892\n",
              "999890           33288638   29316      9  8892\n",
              "\n",
              "[300738 rows x 4 columns]"
            ]
          },
          "execution_count": 18,
          "metadata": {},
          "output_type": "execute_result"
        }
      ],
      "source": [
        "book_tags"
      ]
    },
    {
      "cell_type": "code",
      "execution_count": 19,
      "metadata": {
        "id": "3piw5iXUhiox"
      },
      "outputs": [],
      "source": [
        "# создадим координатную разреженную матрицу оценок книг пользователями\n",
        "ratings_coo = sparse.coo_matrix((ratings.rating,(ratings.user_id, ratings.book_id)))\n",
        "# создадим координатную разреженную матрицу соответствия тегов книгам\n",
        "feature_ratings  = sparse.coo_matrix(([1]*len(book_tags), (book_tags.id, book_tags.tag_id)))"
      ]
    },
    {
      "cell_type": "code",
      "execution_count": 20,
      "metadata": {},
      "outputs": [
        {
          "data": {
            "text/plain": [
              "<53425x10001 sparse matrix of type '<class 'numpy.int64'>'\n",
              "\twith 5976479 stored elements in COOrdinate format>"
            ]
          },
          "execution_count": 20,
          "metadata": {},
          "output_type": "execute_result"
        }
      ],
      "source": [
        "ratings_coo"
      ]
    },
    {
      "attachments": {},
      "cell_type": "markdown",
      "metadata": {},
      "source": [
        "### **ПОСТРОЕНИЕ МОДЕЛИ РЕКОМЕНДАТЕЛЬНОЙ СИСТЕМЫ**"
      ]
    },
    {
      "cell_type": "markdown",
      "metadata": {
        "id": "fp7ydLG-hiox"
      },
      "source": [
        "Объявим вспомогательные константы для обучения модели:"
      ]
    },
    {
      "cell_type": "code",
      "execution_count": 21,
      "metadata": {
        "id": "L3bS12rOhioy"
      },
      "outputs": [],
      "source": [
        "#число потоков нашего процессора. Ставим 1, так как lightfm на macos ставится без OpenMP\n",
        "NUM_THREADS = 10\n",
        "\n",
        "#число параметров вектора \n",
        "NUM_COMPONENTS = 60\n",
        "\n",
        "#число эпох обучения\n",
        "NUM_EPOCHS = 10 \n",
        "\n",
        "#зерно датчика случайных чисел\n",
        "RANDOM_STATE = 42"
      ]
    },
    {
      "cell_type": "markdown",
      "metadata": {
        "id": "t-1_C-UZhioy"
      },
      "source": [
        "На этапе создания модели мы используем библиотеку LightFM, чтобы сделать матричное разложение (ALS) наших рейтингов книг и получить два набора векторов. "
      ]
    },
    {
      "cell_type": "code",
      "execution_count": 22,
      "metadata": {
        "id": "YGxL87INhioz"
      },
      "outputs": [],
      "source": [
        "#Разбиваем наш датасет на обучающую и тестовую выборки\n",
        "train, test = random_train_test_split(ratings_coo, test_percentage=0.2, random_state=RANDOM_STATE)\n",
        "\n",
        "#Создаём модель\n",
        "model = LightFM(\n",
        "    learning_rate=0.05, #темп (скорость) обучения\n",
        "    loss='warp', #loss-функция\n",
        "    no_components=NUM_COMPONENTS,#размерность вектора признаков\n",
        "    random_state=RANDOM_STATE #генератор случайных чисел\n",
        ")\n",
        "\n",
        "#Обучаем модель\n",
        "model = model.fit(\n",
        "    train, #обучающая выборка\n",
        "    epochs=NUM_EPOCHS, #количество эпох обучения\n",
        "    num_threads=NUM_THREADS, #количество потоков процессора\n",
        "    item_features=feature_ratings #признаки товаров (рейтинги книг)\n",
        ")"
      ]
    },
    {
      "attachments": {},
      "cell_type": "markdown",
      "metadata": {},
      "source": [
        "Синтаксис очень похож на привычный *scikit-learn*: первый набор отвечает векторному представлению пользователя, а второй соответствует векторному представлению книг. Эти векторы мы будем использовать при составлении эмбедингов."
      ]
    },
    {
      "attachments": {},
      "cell_type": "markdown",
      "metadata": {
        "id": "AMupb7Schio0"
      },
      "source": [
        "### **ТЕСТИРОВАНИЕ МОДЕЛИ**"
      ]
    },
    {
      "attachments": {},
      "cell_type": "markdown",
      "metadata": {},
      "source": [
        "Перед тем как переходить к использованию модели, давайте посмотрим, насколько хорошо она обучилась. Будем использовать наиболее популярные (в рекомендательных системах) метрики качества — **precision at k** и **recall at k**. Давайте вспомним назначение этих метрик:\n",
        "\n",
        "> **precision at k (precision@k)** — это отношение количества релевантных предложений в списке рекомендаций к общему количеству предложений, при этом количество предложений равно k.\n",
        "\n",
        "**Что это значит?** Допустим, мы делаем 10 рекомендаций и наша метрика *precision at 10* равняется *80 %*. Это значит, что *80 %* наших рекомендаций релевантны для пользователя.\n",
        "\n",
        "> **recall at k (recall@k)** — это отношение количества релевантных предложений в списке рекомендаций к количеству релевантных предложений в принципе.\n",
        "\n",
        "**Что это значит?** Допустим, мы делаем 10 рекомендаций и наша метрика *recall at 10* равняется *40 %*. Это значит, что если взять все релевантные предложения, то *40 %* из них появятся в списке наших рекомендаций.\n",
        "\n",
        "В идеале мы должны стремиться к *precision* и *recall* = 1.0. К сожалению, такое практически невозможно, как почти невозможно получить 100 % точность в задачах классификации.\n",
        "\n",
        "> **Важно**. Плохой *precision* или плохой *recall* не означает, что вы получите плохие эмбеддинги. Это следствие того, что модель тренируется через алгоритм *ALS*, который использует другую метрику качества при обучении.\n",
        "\n",
        "Измерим качество нашей модели, воспользовавшись встроенными в *LightFM* функциями `precision_at_k()` и `recall_at_k()`:"
      ]
    },
    {
      "cell_type": "code",
      "execution_count": 23,
      "metadata": {
        "id": "6U1waVUshio0"
      },
      "outputs": [
        {
          "name": "stdout",
          "output_type": "stream",
          "text": [
            "0.040134537466226715 0.08688931\n"
          ]
        }
      ],
      "source": [
        "#Тестируем нашу модель\n",
        "precision_score = precision_at_k(\n",
        "    model, #модель\n",
        "    test, #тестовая выборка\n",
        "    num_threads=NUM_THREADS, #количество потоков процессора\n",
        "    k=10, #количество предложений\n",
        "    item_features=feature_ratings #признаки товаров\n",
        ").mean() #усредняем результаты\n",
        " \n",
        "recall_score = recall_at_k(\n",
        "    model, #модель\n",
        "    test, #тестовая выборка\n",
        "    num_threads=NUM_THREADS, #количество потоков процессора\n",
        "    k=10, #количество предложений\n",
        "    item_features=feature_ratings #признаки товаров\n",
        ").mean() #усредняем результаты\n",
        "\n",
        "print(recall_score, precision_score)"
      ]
    },
    {
      "attachments": {},
      "cell_type": "markdown",
      "metadata": {
        "id": "MZUskAXXhio1"
      },
      "source": [
        "> Результаты получаются неидеальными, однако для тестирования функциональности такого *baseline* будет достаточно. Вы можете поэкспериментировать с параметрами, чтобы добиться других результатов. Однако основная цель нашей работы иная — создать прототип модели, поэтому мы продолжим двигаться в этом направлении, и следующим этапом будет добавление эмбеддингов.\n",
        "\n",
        "Если вы обучали модель самостоятельно, то рекомендуем сохранить её в формате *pickle*, чтобы впоследствии при перезапуске ноутбука вам не пришлось выполнять обучения заново:"
      ]
    },
    {
      "cell_type": "code",
      "execution_count": 24,
      "metadata": {
        "id": "k_uaCAe6hio1"
      },
      "outputs": [],
      "source": [
        "# with open('model.pkl', 'wb') as file:\n",
        "#     pickle.dump(model, file, protocol=pickle.HIGHEST_PROTOCOL)"
      ]
    },
    {
      "attachments": {},
      "cell_type": "markdown",
      "metadata": {
        "id": "30o9Rtgyhio2"
      },
      "source": [
        "## **Добавим эмбеддинги к модели и посмотрим, что получилось**"
      ]
    },
    {
      "attachments": {},
      "cell_type": "markdown",
      "metadata": {},
      "source": [
        "**Примечание.** Если вы пропустили этап обучения и тестирования модели, не забудьте десериализовать модель из файла:"
      ]
    },
    {
      "cell_type": "code",
      "execution_count": null,
      "metadata": {
        "id": "LqsUKn57hio2"
      },
      "outputs": [],
      "source": [
        "# with open('model.pkl', 'rb') as file:\n",
        "#     model = pickle.load(file)"
      ]
    },
    {
      "attachments": {},
      "cell_type": "markdown",
      "metadata": {},
      "source": [
        "Для начала давайте воспользуемся обученной ранее моделью, чтобы получить новые векторные представления книг, которые называются **эмбеддингами (embeddings)**. Проще говоря, мы хотим на основе матричного разложения, полученного с помощью нашей модели, представить каждую книгу в виде вектора в некотором пространстве размерностью `NUM_COMPONENTS`.\n",
        "\n",
        "В нашем случае одной книге соответствует вектор размерности `NUM_COMPONENTS = 60` (мы задавали это значение ранее)."
      ]
    },
    {
      "cell_type": "code",
      "execution_count": 25,
      "metadata": {
        "id": "xQyl1ymbhio2"
      },
      "outputs": [
        {
          "name": "stdout",
          "output_type": "stream",
          "text": [
            "(10001,) (10001, 60)\n"
          ]
        }
      ],
      "source": [
        "# Достаём эбмеддинги\n",
        "item_biases, item_embeddings = model.get_item_representations(features=feature_ratings)\n",
        "\n",
        "print(item_biases.shape, item_embeddings.shape)"
      ]
    },
    {
      "attachments": {},
      "cell_type": "markdown",
      "metadata": {},
      "source": [
        "**МЫ ПОЛУЧИЛИ ЭМБЕДДИНГИ — ЧТО ДЕЛАТЬ С НИМИ ДАЛЬШЕ?**\n",
        "\n",
        "Эмбеддинги нужны, чтобы давать предсказание к каждой книге, а точнее искать наиболее похожие.\n",
        "\n",
        "По сути, нам необходимо среди всего множества векторов, соответствующих книгам, найти ближайшие к заданному. В качестве меры близости можно взять косинусную меру (косинус угла между векторами). Напомним, чем меньше значение косинусного расстояния, тем более объекты «похожи» друг на друга:"
      ]
    },
    {
      "attachments": {},
      "cell_type": "markdown",
      "metadata": {},
      "source": [
        "![image.png](data:image/png;base64,iVBORw0KGgoAAAANSUhEUgAAAeMAAAFjCAIAAACBpfS3AAAgAElEQVR4nOzdf1yTV5Y4/lMMY+pmNI6pzdi4os1qLFhTB6bYYhs+4IgjLjDSigMdaUXBFQdcdcQWR5iihRVHbHGFEVuouGLFAgu2OOoXFFpwQU0LlChR4hg11VhSyEhoAs/3j4shJCEk/MjP837xBzx5khz8cTjce+69T1EUBWhMSSQSDw8PW0eBEHIebrYOwNnI5fItW7bYOgqEkFPBTD3Gzpw5U1FRIZfLbR0IQsh5YKYeY6WlpRqN5vjx47YOBCHkPJ7CceoxpFQqn3nmGZVKxefzr127ZutwEEJOAmvqsXThwgWVSgUAQqGwubnZ1uEghJwEZuqxVFxcrP28oKDAhpEghJwJjn6MGY1G88wzzygUCvIlh8Npb2+n0Wi2jQoh5ASwph4zFy9e1KZpAJBKpRcuXLBhPAghp4GZeszoDn0QhYWFNokEIeRkcPRjzMycOVMqlepeodPpDx8+ZDAYtgoJIeQcsKYeG7W1tXppGgBUKtXJkydtEg9CyJngfNfYOHv2rNHrhYWF69atM/3cxsZGpVIJAAwGw9vb2+g9tbW1Go0GADgcDpfLHV2wCCEHg5l6bBQVFRm9Xl1dPeyGTS0tLdHR0eTzioqKFStW6N1w+vTp8PBwAKDT6bigBiEXhKMfY0AkEonF4qEeHXZl+dq1awUCAfk8Pj6erJ3RUigU8fHx5PO0tDQejze6YBFCjgcz9Rg4ffq0iUfz8/OHfYVPPvmETDxKJJLU1FTdh7Zv3y6TyQBAIBAkJCSMLlKEkEPC3o8x4OPj09jYaOKGmpoaPz8/0y9y6NAhUjvTaLRr1655eXkBQG1t7ZIlSwCAwWA0NTXhttcIuSasqUdLKpWaTtNgxgAIAGzatIlkc41Gs3HjRgBQqVTr168nj6anp2OaRshlYU09Wtpa2AQmk3n//n06nW76NpFI9NJLL5Fx6ry8PKlUmpKSAgACgaCqqmqsAkYIORzM1KO1dOnS8+fPD3tbcXHxqlWrhr1t//7927ZtAwAWi6VUKlUqFY57IIRw9GNU5HJ5dXW1OXeaM68IAAkJCb6+vuSVSXGN4x4IIczUo3L27FmyIGVYlZWV5hzZRaPR9PIy7saHEMJMPSqGuzINxcwju86cOaO3iCYpKclwnTpCyKVgph45lUpVWVlp/v3DDoAolcq4uDjyeVZWFlk1rlAo8LBzhFwcZuqRO3v2rN56QtOGPbJr586dpHz29fVNSEjIyckh14uLi8vKykYTKkLIoWGmHjnzhz60TBzZVVtbm52dDQA0Gu3IkSMAEBAQEBERQR6Nj48nuzghhFwQZuoR0mg0FRUVlj6rqKjI6Ayk7iKXbdu2kQWKALBv3z6yylwqle7cuXMU8SKEHBj2U4+QTCbLzc3Vu1hdXa1t2hMIBNp9l3TFxsay2Wy9izt37kxPTwcADw+P1tZW3TUyGRkZSUlJAECj0WpqakgPH0LIpWCmHkupqalkVSEApKSk7N6925xnCYVCHx8fUmufP38+ICBA91GNRrNgwQKRSAQAXl5e165dw749hFwNjn7Y3ttvv03SdExMjF6ahifD1iQ7Nzc379+/3wYhIoRsCqsz2xv2cAA/Pz+1Wm2dYBBCdghraoQQsneYqRFCyN5hpkYIIXuHmRohhOwdzigiNI4kEonRhalMJnPhwoV+fn7Yc4nMgf9KEBpHEolE22JviM1mZ2ZmRkZGWjMk5Ihw9AMhm5HJZFFRUSZ2g0GIwEyNkJVQOurq6ry9vcn15ORk2waG7B9maoRswNfX9/Dhw+RzqVSKh0Ug03CcGiEjpFLp6dOnKysrJRKJSqWi0Wh8Pj84OHjFihUsFmtM3sJwoy6EhoI1NUKDyOXyzZs3v7TQq/lCbvzC5pLft9XESUqivw/lCEvzMxZ4vbBnzx6LTpAYyvXr18knXC6Xw+GM/gWRE8OaGqEBQqFw5YrloYsmtO36kTnpR+11DnR5PdMVOR/EjybuPPfp4lOflVecGXF6lcvlFy9ejI+PBwAGg6E93AehoWCmRqhfY2Pjyt/+JmfNTyGe/xzqHu60nlMRNw7+n8di31/X1f+fRcn6qaee0rsSGBh44MAB7cERCA0FRz8QAgCQyWRhISvyft9tIk1rJfxasm0ZbWXwilEOg1RXV+/ZswenE9GwMFMjBACwM+lPUd49K14wN/MmvHyHN/2njIwM89+iSkdxcXFgYKBGoykqKlq8eLFCoRhR1MhV4OgHQtDc3Fx5pqztz50WPet9QduSDw9t2rTJzG4QvdPaQkJCfHx8hEKhVCo9evTo1q1bLXp35FKwpkYITp48GfMajTHRsmdxWb2ChdPLyspG9qY0Gi0wMJB83tzcPLIXQS4CMzVCUHr6ZAjvhxE8MXi+srKycsTvKxaLySfkBHqEhoKjH8iFSSQglcLduxLJP3gjWoay8Bey9Auikb15WVlZRUUF+TwoKGhkL4JcBGZq5EpOnoTSUpBKQSoFiUR7WeX2lKVDHwRzYo9S2WXmzf7+/trPZTIZOW8eAPz8/FasWDGSt0cuAzP1WMLfYW1GJiPVcX8WJh+hoZCQMOg2kQiKiga+5HDIB62sVKXW0N0tfltlD9DpT5t5c3V1teHFoKCgY8eOWfzGyMVgph5LY7UjBDJOLgepFOh04PEGXT94EBITjdyvdxsArF4NXC489xx4eICHh/ayx9zZ4ocSrxkWR3TzMcdD53UMMZlMvZYPgkajeXl5rVq1ys/Pz+J3Ra4HM/V4kcvltg7BwYlEcPJk/1Ay+VAqAQCiokCvCOVwgMXSFsj9H7NmGcnUPJ6RiwBBK0LLWvK8ZigtjbH0u5+bHmLm8/lVVVWWvixCejBTjxel0uL/9i5EqRwYrCC5mM2G998fdM/du6B3WgqT2Z+U9axaBatWjSac1atXv/VG/o4AoFnSDKV4DKVf3dv936N6a4TMgZkajRuVChQK0NvbUyiEpUvB8BcOPl8/U8+bBykp/QUyGa8Yt2kAX19f3ou/PnixZqt/t/nP2lU1J+L3v8Vt8JAVYKZGY0GlgtOnB83mSaUgk4GHB7S3D7qTxQK5HOj0/hTs4dH/CZer/5ocDuzebbXv4MDBQ4t/vejVWeA7x6z7y1qnll7pvnbUehEiV4aZGpnnSesxSKUgl8MHHwx6VKWCqCj9p9BoYHjwNocDDx8aGcGwNS6XW3ji1BtrI05FK4ZN1mduTI37H7cvz36Bc8jIOjBTI5OWLNFrPe63ezfQ6QNfMpkQFQVs9qDBiqHONLHX7LZs2bK8gqKVv38zaRmV8FqX0TFrZQ/sufSvhXXq8jP/y+fzrR4jclGYqV2SUAi3bw8aqSAl8/37+mmUXAfQ76zQaPRf0ymagpctW1Z3+cqWxIScvZej/X4WMvc+9xmgu4OyB0QPflZ2c1beeXnQiv/X0PgBnq2FrAkztZMircdksGL1amAyBz26Zg2IjK2Blkr1M/WpU8Bmg8mWYSfD5XLLK87U19efPHnyjf8pl9xq1wDQ6XQPD4/QsN+de3c1bvyPrA8ztRPJyIDz5we1HhPz5oHe4guBALjcQa3HZHLPcFjZ13fcw7ZLvr6+vr6+B6RSaLsJXC40NQ0a7UHIujBT2z3D1mPykZUFAQGD7mxshPPn+z8nrcfkw3Bc+PBha0Tu6HbuhOJiYDKhvBzTNLItzNT2QaXqz7+G/WqbN0N+vpGniMX6mTohAWJixrv12FXk5kJ6OtBoUFJidFkjQtY0vplaLpeXlZUVF5+6eevW4+7H7u60hQsXhoX8bsWKFa7e3nThwsCmbqT1mEhPhx07Bt3J4/WPVGhbj7XNFXpstIOEQgFXroBQCCwWrF1rkxDG2tmzEB8PAJCXpz9whJAtGM/UBw8eLC0tBQA6nV5eXk4zHL4cjkajOXTo0J69e/5t0b+yFkzy/s2/utMn/PRPtfz23fSclMRtCZvj49/dkUx3xl8qPQA4AL9ub4f9+/sTcVAQrFs36CahELKzB76k0QZysZ4dO/Rzt61pU3N9PVy9Crdu9V/PzLRpWGOluRnCw0GjgeRkZ/nJgxzeUxRF6V3SaDQzZ86UPanyiouLV1m4qYJGo1kd8eZ37U0vRc2aOsPIr+E/yv75f0Ui6kf3qr9fctTFuFIpaDR6he3F//iP140OAUdHwyefDLoiFMLFi8O3HtuHoVKznooKcPhtlmUy8PEBqRQiIuDECVtHg1A/I8VyWVmZNk0DQF5enqWZOuoPkde/bxJsfcFtwlNGb5jC/pelib/69stbL/5qwbdXmuw9WUskcOaMfuuxRgOhoVBSonujhk4HACmAFIDm4eEdGto/WDFvnv5r8vngIOsm6uth82ZobDR1z1NPAUU5/ti4UgkrV4JUCn5++j9ZEbIpI5k6/8n8lZeXV3Nzc2VlpVQqNT+Z/s+J4xfrqkLe9x0qTWu9uHwOALwW6PedUGTLYRDd1mOpFBgM/dEGiaR/1FIXm63fpAxw/4UXtN9ztEDwyYED4xOxVfn6QkMD1NbC/v1QUWFkyQsAkF/MBAKg04HL7R9a9/KCefOAyzX8c7JLGg289RY0NgKPByUl2OyB7Ip+ppZKpeQETx6PFxMTk5iYCABHjx7dbd5eORqNZlvStlfXz5/gbtb2kS8un/N9W+PO3dsPZHxkYeQWUir1Sz6JBJYv1289BgAeTz9Te3lBXNzwrccAve6WnxriIPz8wM8PxGI4dAjy8vT/zABg8mSYNAlkMmhuBr2Dttns/n2hSQYn6dvu7NwJpaXAYkFJid2ud0cuSz/dHD16VKPRAEBUVNTq1au3bdum0Wjy8vLee+89c+YVjxcVTvh537P/NtX8CH795vyjf8l/b/vusekGUangq6/0W49JpXznzqA7GYz+dXq6rcccDhiuQGOxsAGZ4HLhwAHYvRuOHoWsrP515sTvfgeffAJKJYjFcP06iET9H2IxyGQgk4Hu0VR6pffzzwOPZ9PSOzcXMjOxJw/ZLf3kqx36iIyMZLPZgYGBZPTj7Nmz5hzK+Vlp0fOLf2lRBFPY/8LmTTlx6vjmjQnD3w06rcdk54r33hv0KI0GgYFGnmX4SzuLBU1N2Ho8AkwmbN0KCQlw+jRkZMC1awDQ/wOOwTAyAi+VQksLiMX9ibu5GaRSI6U3iwU8Hnh59Sdxkr6tQduTl59vq05HhEwblKnPnj0rkUgAQCAQkNPhoqKiyGBIfn6+OZn6auNVQbzFuyLMWsQuKT89TKZeswbE4kGtx8SmTYOKMRoNQkMHlcmkucJowYYbOIwCjQarV8Pq1f1D2Cb+LMnfw7JlA1eMlt5yOdTWQm3toLcgdTcZOZk3bxxKb21PXkoKREaO6UsjNGYGZeq8vDzySdSTvYZXrVoVFxenVCpLS0tlMtmw+4c9kD5izvi5pUGwZk2u+98W2LJlYLCipkZ/ZUdjI4jFAINbj43Ocw7ux0DjjQxhW8Sc0lskAolknEtvmQyWLwelEqKirHlqAUKWGsjUcrlcu9pl9erV5CKdTg8PD8/Pz9doNAUFBTvMWIIxbMuHoZ/9i/tj5WPIyhq4JJXqZ+pPPgEazf5bj9GIGZbeKhWIRHDzJohE0Nzcn75NlN4kd3t6ApdrxqSgUtk/pYw9ecjuDWTqgoICMpcYHh7O0Bm6Xbt2LRm8zs/PHzZT9/X2jSAItap34qSn4d2UgcEKw2IZBxBdD51upPSWyaClZaDuNlF6k+lK3YaTgUlxjQbWrAGhsL8nz/JVuAhZ08A/UO3QR0VFxezZsw1vFYlE1dXVApPbIDzLYXXcUxpdl2jCD3c65/DmwtatFj0LuSY2G9jsQZtTDVV6y+VQXz9wG4020HDCu/qZ5/8n5/5iLgt78pAj6M/UtbW1oidbyysUCoVCYfTuo0ePms7Uvq+8fO87qaWZWtIoS4hKsugpCGmZKL11R721NTgAAPwe4PfwA7CWmCy9EbIP/f8kjx49Sj4JDQ0NDQ3Vu0mhUJAlMMXFxR999BFz6Nn3t6PWxya84xlowREhHfeUsu9+fON3b1oWuF1iYMOf3TBaeovFcP1/rogzTjf3vSCa81vxD78wLL0BBhpOuFzw9AQeD8tuZGM0AFAoFEVFReTr3bt3Gz3Hs7CwsLGxUaVSHT9+fNOmTUO9XMjKkO1JvxDX3eUufs6ct+/rpWqOfrv9T9ucYxPUadOm2ToENCQ6Hbw0Qq+PBNCnhLQ0eO8XACCTgUjU3y+oV3pXVAw8l8kcWGapbTjB0htZDQ0Ajh8/rlKpAIDP5w913HJUVFRjYyMA5OTkmMjUAPA/BSf+31L/abOmDDsG0qvuO599Ze6sF3b8584Rhm/H5HK5rUNAg2l78qKjtQumSOmtO6TXX3pf71+kQ3K3QgH19Vh6I5t5iqIoHx8fkoUzMzO3DjGtJ5fLf/nLX5LmkIaGBm9vbxMvWlx86u31b7+ydr6Jyvr7to7qvwl//euX/7foixHsf22fqqur/f39yecCgaCqqsq28aABSiUsWQJCIQgEcO6cpfWwXA4ikf7AtyHd0ls76o17PaHRo8nlci8vLy8vLyaTGRsbO9R9LBYrLy+vuroaAG7fvm06U4eHv+HhMXvNH1YL//fm/IB/nfECi9TXfb2U4l7X/es/iL++261Q/zllV8L6bWP+LSGkb9Q9eSyW/gIfjWag4UT7YbT0Hmg4ebLMEpcEIEsZOUlgDJX87+m/FeRcuXz14d0fyIqYX/xyCm/h3ODfBm9Z/6efuU8cv7e2Cayp7dTmzZCdDWw21NSM6z5+5pfeJHGTlZZYeqNhjW+mHtDYCD4+wGRCe7uDbFc8Epip7dGhQxAfD3Q6nDtn/fVTuqU3GfgmO5wYwtIbmWCtAWJvbxAIoLoaDh7EDRaQ9ZSVQWIigM32yaPRwMsLvLwgJGTgolwOYvGglZZicf+HLlJ6a9u9ScMJlt6uyVo1NQBUV4O/v3OX1VhT25fGRvD3ByXpyXtv+PttR6MZaDjRrrQ0Wnp7eAzMWJJNTrD0dgVWbLoQCPrL6qNHceE4GndSKaxcqdeTZ7fIJlN6mwIaLb0lEpBIoLJy4DYGY+BMBiy9R0+lUtnysEAdupFYsaaGJ2U1mw3t7U75TwlranuhVMLixdDcPLKePLtFSm/dUW+yw4khpyy9Se+Zr6+vNn8plUoajTaGibW5udnf37+wsHCZ7qaOVqdSqfz9/b28vI4cOUKuWPdfsEAAvr5QXw+5uZBg3gkvCFlKo4E33oDmZufbJ09beuue6qFQDCyz1N3a27D01p7JQCYtuVwHO++IlEHt7e3knJPGxsalS5cCQE1NjdcYnQqyZcsWuVw+caLxtrSMjIzKykoajVZSUjKCrSPOnj2bnp6ud5FOp/N4vFWrVvnpzKPQ6XSVSpWfn79p06b+1YiUlZWWUgAUm011d1v7rcefbhEtEAhsHY6riovr/zfW3m7rUGymtZWqqKAyM6m4OMrPj2KxKAAjHxwOFRRExcdT2dlUZSV1546t4zaJ/M9qf/LXmpKSQq6kpaWZ/yJFRUVD/d+sqakx8T+3u7tbu+VRTk6OpcFTFKU9+9CooKCgrq4u7c3ktIDw8HDypdUzNUVRfD4FQGVl2eCtxxlmatvLzKQAKAaDqquzdSj2paODqquj8vOppCQqNJTy8qLodCO5m8Gg+HwqIoJKSaGKiqhr1yid7GFjepm6ra2Nx+PxeLx2S34kR0REDFWhhoeHA0BFRYXRR0meJedeeXt7Wxo8pZOptVcePnx47dq1pKQksk47JiZG934ej0ej0e7cuUPZJlOTstrDg1KrbfDu4wkztY2VllI0GgVAFRfbOhTH0NZGVVRQWVlUXBwlEFBstlmlt61+V9HL1CND1lcbXu/q6qLT6Ww2Wz1EXvL19QWA7OxsUlk3NDRY+taGmVqL/H5Ap9O7dQYb0tLStL8x2CJTU0/K6vx827z7uMFMbUsNDRSDQQFQ6em2DsWBdXRQDQ1UYSGVlESFhw9ZetPpFJ9PhYdTyclUURHV0GCN0ntMMjXZttPwOtlPVK+q1WpqaiKZtKOjIy4uDgDi4uIsfWsTmfratWuG311bWxsA+Pr6UhRlo8mWpCSIiIC0NIiMdKYJH2Qz2p68mBgY+gy5np4ed3d3Nzc3a4bmWJhM8PYGvX19dHu9yYdMBkIhCIWDbmOzB85kIJOWHhbsVD+IUqncv39/cXGxSCTicDihoaG7DVbMyWSyNWvWAIBuhSSRSDIyMqqrq1UqFYPBEAgEW7duJTOQJ0+elEgkZJPL1NRUcv/rr79OTkepra0FgMDAQKPx5ObmAkBoaCiTyVy3bl1OTk5hYeG+ffvGakt6svkdAOju/s/lcjkcTmNjo1KptFFNrVZTXK7zldVYU9tGVxfl5UUBUIGBJobUent7s7OzL168aM3QnJW29E5OpsLDKT5/LEvvhw8fkl4OOp3u6+srEAgYDAbvSbe5tupsb28nV7RPbGpqIqnTy8srOjqaDHQwmUwyU2d0z86UlBTyXDK4YbRg184lnj9/nlwh4Vk6r2iipo6Pjwed+UMtcq5LQ0ODjTI1RVH5+RQAxeXaLIBxgJnaBtRqKiiIAqB4PNNpoLi4ePPmzSdOnLBaaK6mvZ2qrKSysqj4eCowcMhRbzabCgyk4uKoJ3lPH5n04/F4d540o3R3d0dFRQ2bqYODg3WTL0VR165dy9cpBw2fosXhcGg0mtF4SIb18PDQXsnKygLL5xW1mbpdR1VVFfnWvL2979+/r/eUpKQkACgqKrJdptaW1aWlNothrGGmtgHzevJqa2tTUlLOnDlz8OBBq4WGurqohgaqqMh46W20/0ubTJuamnSvq9XqYTM1GeVoa2sbKh4TmVovF+si5bbuD4CHDx+S5TYWzSua6NKLiIjoMlZnkB8J2dnZthsjptEgORmioyElZdDuNQiZLyMDcnKAwYCSEhNjomKxuLy8fPv27ffu3aurq7NmgC6Owegf9V69euCiRNK/Tkf3lEutsrIyAPD29tZbzGLOeSMcDkcikWzfvv3w4cPsMVqU2dzcXF9fT6PR1q1bp73IYrFCQ0OLioqOHj1qerN+o6Kjo3W/bGxsLCoqqq6uzsvLW6G7qOnJsLVcLrddTU1RlFrd/wuSs5TVWFNbVXFxf21mrCfvp59+kkgk33//PUVRXV1dN2/epCjq/v37GzZs6O3tpSjq4sWLJoovZCtkxDY6OtrwIfI/y0RNXVNTQ8apaTRaYGBgXl5eR0eH7iuMoKYm8QQFBeldr6ysBAAGg2G0FjbKxDh1YWEhCfvatWuGT0lJSbHpJDiNBklJAABP1hohZK76eiCFSXo6rFql9+ClS5f+9Kc/7d27d9euXWlpaR0dHXPmzAGA6dOnA8CDBw9EIlFZWRmeJW+HlErliJ/r5+fX0NAQExNDp9PPnz8fExMze/bso0ePmvNcGo2mbcDQUqlUJIdWVlY+NVhQUBCJ9vjx4yMOWCsyMjIoKEij0ehFK5PJAIDD4di6XSk2FthsEArhzBkbR4IciEQCYWFD9eR99dVX5eXlsbGxubm5e/fufeaZZ/bt2ycWiwHAzc1t+vTpN2/ezM3NXb9+/Vj9gozGEPnxaZg0zcTj8Y4cOfLw4cPz588HBwcrFIq4uLjm5uZhn8jhcKRSqd77lpWVKRQK0u1niLSj5OXljSxUw8gBQC9UkqlZLJatMzWd3l9WZ2baOBLkKJRKWL4cZDIICoLDh/Ue7OnpKS4u3rhxI/l3P23atNjY2F/96ld5eXlkSuqZZ54pLCwMCwvj6e0xiuwD+XsR6rVqW4hOpwcEBJSXlwcGBmo0mitXrpj5vnqJMicnBwDi4uKqjPnyyy8BoLGxkZwYPkoikQgAuINPjyPxPP/887bO1PCkrK6uhupqW4eC7J5GA2FhIBKBlxecOmW4bOrGjRtPP/00GevQioiI6O3tJXOJc+bM8ff3f+2116wXM7IE2W6UzOPpXs/IyBjBq5EViYbDXIY1O9my7vLly9orIpGI7LO6du1aoy/u4eFBVspohyxEIlFBQYHc6Ea0Jp0+fZoMfJNGQ22Q9fX1/b3kZo6Fj6+UFAqAcvwpOJxRHHcxMf09eUNs+/b111/rdlNpFRcXk3UKvb29ZEYR2S2yUxKbzc7Pz29tbT1//nxUVBSbzSYJd6gZRbVazefzAwMDSeecWq0uLi6m0+lMJlM7r9jd3U2661JSUlpbW5OSkrQzeOfPnweA0NBQbRjbtm2D4ZqmyRp07bwiadUwnH4ktDOKKYORIW8wWPlC8gl5NfvI1B0dFJNJAVBVVbYOZVS0i/cxU4+L9PT+3d6GbmJta2vbtGmTSqXSu15bW5uZmTnO8aGx8fDhQ73WNy8vr9bWVtK3N1Sm7u7uJktmdLFYrJqaGt0XJ70cWomJieS6Wq1msVh0Op3k3O7ublKPm16IqF2+SG4jMx9D9WWb6KdmMpkpKSl6m0ORUPPy8iib7fuhh8mExERISYGMDBAIbB3NyDGd9HxIu3D6NCQlAY0GhYX621LomDNnztNPP33u3Dnd3yIBQCaTPffcc+MfJRoDLBarrq6urKyMDID4+vqGhITQaLTDhw/fvHmTJFBym27uo9PpJ06ceO+9986ePSsWi+l0Op/PDwkJ0ftf+dFHH/n5+dXW1tLp9MDAQO3ZLjQaLTo6OjMzs6CgYNOmTUqlMjMzk0ajrdZtBTdAp9PLy8tv3rw5a9YsAKipqdm8efNQPUWvvvqq0WT9/PPPe3t7651cQ9pOmExmfwAj+Ik3LrRl9eB2Qsei/SEPADwez9bhOJG6uv598ozVxXK5XPfLK1euxMXFXblyRXvlxx9//M///E+JRDLucSJH1tbWRqPRuFzuUBufDqu7u9vDw+P8UMvkLUFWJ2pL/gkpdtLLTKfDP/8Jly7B99+Dwa8wjkKhUBw8eJB8zmAwEoHq8rYAACAASURBVBMTbRuPk5BIYOlS+OEHiIuDPXv0Hvzmm2+ys7OXLFni7u5Orvzyl798+umnP/3004cPH6pUKpFI9Omnn77yyitkTTBCQ/nFL37x8OHDysrKWbNmLVq0aASvsHHjxunTp2/fvn2UkahUqrCwsJ/97GenTp2aNGkSWPscRdM2bYLMTCgtBaEQyNFhCCkUAz15H31k+Pjnn3/+u9/9jvxr1goICJg1a9aFCxfKy8unTZsWFhb28ssvWyti5MDef/99qVT6+uuvj+zp3t7ekZGRow+DTqfHx8ezWCztUI91zyYf1pYtkJUFoaFQUmLrUEZCIpHMnj2bfO7h4aE7GIJGQqOBpUuhuhq8vKCuzuj5rGTF8CuvvDJx4sQR7MCAkEOwg35qXTt2AJ0OpaUgEtk6FGQH1q+H6mpgs+HLL4c6Rvv3v/99Z2dnaWnp3LlzrRwdQlZjZ5mazYa4OACAEXW5I6eyZw/k5wODAeXlwOEMdZdGo+nt7e3p6SHrxRFySnY2+gEAMhnMnAkA0NoKgxdW2j8c/RgzJ09CRATQaFBcPOymuDKZ7Pbt28ePH3/33XdxKw/klOyspgYANhuiokCjMZzlR66itrZ/n7ysLBNpuq+vTyQSXb16derUqS+//PIrr7ySm5vb09NjvTgRshb7q6kBQCyG+fMBHK+sxpp6DIjFsGQJyGQQH2+02YPo6+s7cOBAd3e3Wq3u6emJiYmZM2fOvn37pk2bFhMTY814EbIC+6upAYDL7S+rn/QmI1ehUMDKlSCTQXAwHDhg4sbKysrp06cnJyenpqYuWrTo8OHDjx8/3rBhw/Xr15uamqwWL0LWYZeZGgDeew9oNMjLA5nM1qEga9Huk8fnw4kThvvk6WptbdW2SL/55ptsNvvChQtTp07dsmWLp6enVcJFyHrsNVNzuRAeDioVNoG4EDN68rTc3d07Ojq0X/r5+ZHejxkzZri52eu/aoRGyo7/TZOzPHJysKx2CdqevC+/BIP+jb6+Pr0rnp6elZWV2vOqJ02apLdMESFnYseZms+H0FAsq13CyZOQnAw0GhQVGW4kIBaL9+/fr5esyVEAf/vb3zo7Ox8/flxZWenn52e9gBGyLuv1fpw9e/bzzz+fOHGi7paAU6dO1f6uGhQUpD/CKBTCSy8BgwF37oAjbCiKvR8jUVsL/v6g0UB2NmzaZPh4T09Penr6vHnz9HYf7uzs/Pjjj1tbW93d3VeuXKndvhIh52O9TK1Wq7WZ67PPPps1a5b2xDClUvnFF1/MmjXLyOZzYWFQWgopKbB7t3XiHA3M1BYTiWDJEpDLTffkyWSyvXv3RkZGGm601NnZOXHixIkTJ45zoAjZkvVGP9zd3ec+ERIScvv27cWLFy9evHjq1Kl///vfZ8+ebbwNloxWZ2WBQmG1UJGVyOUQFgZy+bA9eQDA5/OPHz9+7949veuTJ0/GNI2cnm3GqRcsWPD000/X1dWVlJRkZ2cHBgb+8Y9/NH5Qgq8vCASgUGBvtbMxuyevrq7u0KFD06dPf+6550jftDXDRMge2GyN4tWrV48cOcJgMNatW0fObx9SdTX4+wOTCXfuDNu8ZVs4+mGBt96CwkLgcKChwbDZQ9euXbs2bNgwc+bMvr6+w4cPA8AmY8PZCDkx29TUIpHoxIkT8+bN27Vr1zBpGgAEgv6y+slR7cjhpaZCYeFQPXlapAmvo6ODjG+4ubm99dZbra2tX3zxhfVCRcgO2CBTP3jw4ODBg6+88sof//jHyZMnm/UcMp2Yng4q1bjGhqzh+HFISenfJ8/La6i7+vr60tLSmpqaZs2a1djYSC5OnjyZy+VeuHChs7PTWuEiZHs2yNTTp09PSkoKCwuzYC2ZQAB8PshkkJs7nqGh8afdJy87G0z21clkskmTJnl6ev72t7+trKy8desWud7b25ucnGzuz3iEnIJtRj/IietD6ezs1NZQA8jJvFhWOzSRCMLCQKOBbdsgNtbkjaJjx46x2Ww3NzdPT8/f/OY3f/3rXz/77LOPP/7Y3d196tSpVgsZIXtgTyfeAvT19VVVVVVUVDCZzEWLFg0qukNCgM8HoRCOHjW6PgLZO21PXmgofPCB6Xvnzp07ceLEW7du9fX1ubm5BQcHz549u7GxccqUKREOe3Q9QiNmR/tT37p1q6io6OHDh8HBwf7+/kbGRsrKIDQUuFxobTW90ZqtYO/HkDQa8PeH2lrw9oaqKnN6eDo7O/fu3RsUFCQQCKwQIEL2zC7y3ePHj0tKSi5duvTKK6/Ex8cPOQSpLauPH4e1a60bo1mYjrDk3Tbefhtqa4HDgfJyE2laJpMdO3bs9u3b4eHhAoEgJibmww8/nD17tunhMoScnu13aPrqq6927dollUp37Nixdu3aYWaKyHLztDTQaKwTnkUwUxu3a5c5PXlKpTIrK+vll1+OjY09efJkU1MTl8sNCQnJzc1VKpXWjBche2Pj0Y9z584VFxdPnjzZa4hurVdffZWre0CXRgPz54NYDPn59llWP/XUU+QTOp3e3d1t22DsQkEBREcDjQYVFaabPb744ovu7u5Vq1Y9evRo3759PT09ycnJ06ZNy8vL8/HxWbhwodVCRsje2DhTK5XK6upqw+uPHz+ura3t6ekJDw9funTpoMfI/3weD1pbrRSlJbSZGgDsZw7AZqqrYelS0GggJ8d0swcAFBQUzJgxIyAgYN++fWFhYZWVlZ2dnWSbATwcALk4O5pR1Prqq68+//zzyZMnR0ZGcg1PvNWW1aWlJg6uthXM1ANEIli8GBQK2LYN9u0zceO9e/dmzJhx+fJlOp1+9+5dUll/8803n3766YsvvrjWLn95Qsia7CtT37t37/jx43fu3AkJCTHe/kEcPQoxMcDnw7Vr1g1weJip+8lksGQJiMUQHm56A6Zbt25lZWXt3r172rRpALB9+/bt27dPnz790qVLEydOXLRokbu7uxXjRsge2csvlY8fP/7ss8/ef//9adOmpaamBgQEmPqFNzIS2GwQCqGszIoxIrOpVPDGGyAWg68vfPKJiTTd0dGRl5fn7u4ue3IGm7u7e2Njo1gsPnfu3Pz58zFNIwT2U1Pv27dPLBZzudzp06cDQEdHR29vr/bRSZMmxcbGDsrdBw9CYqIdltVYUwMArFkDRUXg4QF1dYbNHo8ePSLlc09Pz759+1577bWrV6/y+XzSNy0SifLz89Vq9R/+8AecRUSIsJdMfePGjRs3buheYTAYujvE83i8QWuIVSqYPRtkMqisNN1RYGWYqWHXLkhLAwYDGhrAYKNEtVr97rvvrl+/fu7cucePHweAyMjI48ePu7u7v/nmm7YIFyEHYC+Z2gS1Wm38V2BSVgsEUFVl9aCG5OqZWtuTV1kJAQF6D3Z2djY1NT377LNz5sx5/PhxT08POUjz3LlzN27c2LRpU09PT3Z2dmxsrPFjJRByVfYyTq1HqVRevnz5448/3rp1a11dnfGbYmOBxYLqajDW54dsoLoayBFrOTmGaRoAbty4UV5ePmfOnNbW1v3792vb76ZPn/7gwYO+vr68vDwWi4VpGiE99pWpZTJZRUVFRkbG1q1bz507p1QqZ82a9ejRI+NL1Oh0iI8HAEhNtXKcyAjtPnlJSbBundFbFi1a1NvbKxQK58+fT6fTjx07Rq4/88wzDx48KCsre/z48VtvvWXFoBFyDPY1+iEWiy9duuTp6enp6aktrI4dO6ZUKjdu3GjkCQoFzJ4NCgVUVYF97OPjoqMfuj15p06ZuLGsrKy9vT0xMbGjo4NswBQQEKBWq+Pj46dPn75jxw4sqBEygrJ7P/74Y2tra1dX1/Xr13fu3Pnjjz8OejglhQKggoNtFJ0+x/qzHRtdXZSvLwVA+fpSXV2GjwuFwu+//558/uOPP8bFxd29e5eiqNbW1k2bNrW1tVEUdeTIkfv371szaoQciH3V1Hru3bvX1NTU3NwsFot/85vfBAcH37x58/nnnx80wagtq69dAz7fdsH2c8Wa+o03oLh4qJ68vr6+xMREAPjDH/7g7e0NAHl5eQwGg2wzffbs2fPnz+/atQvPcEHIBHvM1Hfu3Kmurm5paVEqlVwu19PTc+HChaTP2ridOyE9HUJDoaTEimEa53KZmvzhD9GTRxQUFFy/fr2zs3Px4sVvvvnm7du3P/zww/T09EmTJgHA4cOHfXx8SBJHCBllj5n6wYMHZ8+e5fP55OAPAFCr1Tdv3nzw4MFrr71m5AkyGcyeDSqVPZTVrpWpybL+IXrytG7duvXXv/41Pj7+008/nTRp0oYNG/Ly8l555RWy1IWc6mLFoBFyPPaYqbUePXrU0tLS1NR0/fr1np4eHx+fd955x/j/6i1bICvLHspqF8rUFy5AUBBoNEZ3oO3r6/vxxx+1i5XS0tJefvnlV199taCgoLW11cfHRywWp2LTDkLmsdNM3dfXt3fv3jt37syZM8fT03P27NkTJky4cuVKX19fZGSkkWRNymqNBlpbwXD7PStylUwtEoGPDyiVkJwM779v+Pi5c+e++OKLd955Z8GCBQBw6dKlCxcukNR84cKFkpIStVq9ZcsW3hADJgihQWw1lTmstrY2/TYPijpy5EhVVZXxJyQmUgBUdPS4R2aSQ/zZjtb9+5SHBwVARUQMdUtvb+/nn3++YcOG0tLS3t5elUq1efPm69evk0fb2tr27Nnzww8/WCtihBybndbURnV0dHz88cfPPfec8dOppVIgp83atKx2/ppaqYSlS6G+Hvz84Nw5oNNN3NvS0vLxxx/PnDnznXfeKS8v7+7ujiGLGBFClrD3mZy+vr4bN26UlJSkpqYmJSW5u7v/9re/NX4rhwNRUaDRwJ491o3Rxbz9NtTXA5cLp06ZTtMA4OnpmZycrFar9+7d6+HhIRQK8UREhEbA3mvqXbt2KZXKBQsW6C1clMlkTU1Nt2/fHjTHKBbD/PkAAG1t4OFhk4CdvKYmPXlMJtTVDdWTZ6ivr6+srKyqqqqvr48cOj6uMSLkfOw9U3d0dEyZMoXk4p6enhs3bnz77bctLS0dHR3z5s3z9PR87bXXdDdHhbffhvx8SEyEAwdsErAzZ2ptT965cyNYu09GQnx8fIwPXiGEhmbvmRoAHj161NTUJBQKxWLx008//eKLL5L6elCC1iJlNY0G7e2G6+WswGkztcmePDN1dHQwGAw8xgUhS9n7ODUASKXShoaGuXPnvvnmmywW69GjR93d3Wq12vjdXC4EB4NKBRkZ1g3TqTU3Q2goaDSQnGw6TT9+/LixsVHvUAitqVOnYppGaAQcoKbWVVJScvXqVU9PzytXrjz33HMbNmwgK5IHEQrhpZeATrdJWe2ENbVMBj4+IJVCRAScOGHyRtmHH344c+bMW7duzZw5MzY21vjvPQghS9mqPXAELl68uHnzZrLj2k8//XTlypXW1lbjt4aGUgDUtm1WjY+iKIpisViO+Gc7pK4uytubAqD8/KjubtP3Hjhw4Ntvv6Uo6u7du5s3byYb5iGERs8BRj8IkUj02WefxcbGstlsAHB3d1+0aBGHwyFHw2zfvr2zs3Pg7t27AQDy8kChsHKcTrW9skYDb70FjY1m9uS1trYuWLCgp6fn448/XrduXV1d3YMHD6wTKULOjWbrAMz19NNPh4SEeHp6AsCtW7e+++67lpaWW7dusdlsPp+/fv36QSmSz4fQUCgthYMH+7O2LUilUg6HY6t3HwM7d0JpKbBYUF5uzjiSu7v7vXv3iouLfXx8Fi5cWFtbe/PmTVObICKEzOMwmXrWrFm9vb0FBQXffvttT0/P/PnzFy9eHBMTM23aNONPSEiA0lLIyoKEBGAyrRtsP41GY5P3HRu5uZCZCTQalJSYbp1Wq9UTJkxwc3NbtGjRgQMHXnzxxWXLlgGAm5sbzh+OK6VSefr06cbGRpVK5eXltXr1arYt+p2QFThMpgaASZMmTZw48Z133pk7d667u/ujR4/IEYszZ840smeTQAACAVRX27asdlRnz/afUZmfD35+ho9funTJz8/Pzc3tm2++OXLkCIPB2LRpU0hISGtrKwA8evTo3r17t27dWjvSfj40rPr6+jfeeEMqlWqvJCUl5eTk4J+5U3Kw3g/iwYMHx44du3HjBjkohE6nb9q0yUg1UV0N/v7AZML9+8OOsY6V2bNnSyQS8nl7e7uHjZZKjkpzMyxeDEolpKQY/SHX19e3e/duPp+/atWqXbt2rV279urVq1evXk1OTlYqlQUFBbdu3Zo+ffratWu5Nt3X0InJ5fIFCxbIZLKoqKiEhAQGg1FQUJCenk6j0aqqqvyM/XBFjs3WU5oW++mnn3bu3HnkyJETJ06Ul5dTFCUUCv/85z/39vYauVsgoACorCyrhaebmtvb2632vmPm/n2Kw6EAqKgoo483NzfX1taS7o6///3v+fn5FEX19vYePHjw4MGDxv8W0FhLSkoCAIFAoHsxJSUFAHx9fW0VFRo/DtP7oXX79u0JEya88847//7v//711193dnYuXLhw2rRp2kp2kORkAID0dFCprBynQ1IqYeVKkErBzw8++cTwcZlMlpuby2AwZsyYERkZ+fnnn9NoNABwc3OLiYmRyWRffPGF1YN2RYWFhQBA8rXW1q1b6XR6fX29WCy2UVxovDjSODUxdepUtVrd29s7adIkf3//ysrKkJAQmUxmfPIqIAD4fBAKITcXEhKsHqxD0fbk8XhQUgI0/X8bnZ2dH3744YoVKxYuXAgAL7/8cnt7e0NDQ1hY2KRJkyZNmrRx48aMjIyFCxfOnDnTFt+AvVCpVBcvXhQKhSqVisfjLVu2jGkwp11fX3/58mWFQsFmswMCAowOE4nF4rNnz8rlchaLtWzZMu09YrFYKpXSaLTXX39d934Gg+Ht7V1bW/vVV1/huJOzsXVRPxKffvppZmbmt99+K5fLd+7cSQZDhry7tJQCoNjsYRdujAkHHv0gRzGwWJSx9UQ//fTTf/3XfyUmJqpUKu3F3t7e9PR03T/8mzdvWiNUa3n4kGpooIqLqbY2c59SUVGhN2VCp9MzMzO1N7S2thoe7xseHv7w4UPtPWq12nAj74iIiK6uLoqiSktLAYDH4xm+O3nWNlus+ULjyvFGPwAgMjKSz+eXl5fX1dWtWbMmJCTE1P70ISHA54NMBgUFVozR0Rw6BFlZJnryjh07BgCTJ0/Oz8/XXnRzc9uwYcP169cvXLhArsyZM8c68Y4tmQzq6+HkScjIgI0bYflymD8ffv5zeOYZ8PGB8HA4e9as1zl79mxoaKhMJouJiampqWltbS0sLORyuYWFhSqVCgAkEom/v39jY2NoaGhlZWVTU1NxcbG3t3dxcbG/v7/qyRhdRkZGXl4en8+vqqpqb2+vqamJjo4WiUR0Oh0AFAoFABhtyCP9+3K5fIz+YJDdsPWPCqsgZTWXS6nV4/1WDllTV1RQNBoFQBUWGn28srIyOTm5q6tLO5Go+2hra+umTZvazC87befOHaqmhiospNLSqJgYKjCQ4nL7v3WjH0wmxedToaFUaenwL65Wq8mYQ0pKit51UgtTFBUaGgoAUYNna7u6ury8vAAgLS2NXCFfNjQ0GH0jMnPIZrOjDfD5fAAICgoawR8OsmeukakpivLyogCo/Pzxfh/Hy9TXrlEMBgVADc4vum7evEm2W6EoqqGhIS4uTnsiInH+/Pl//OMf4xun2dRqqr2dqqqi8vOplBQqOpoSCPrPfRzqg82mvL2p8HBq2zYqO5uqqKCamqgn2dVcVVVVAMBgMLqHGGe7f/8++Ydh+FONzBByuVzyJTkIOH+If64kU5ug1xOCnIDjzSiaqaWlBQDI6nMAgG3bIDoa0tIgMtJwrsx1yWSwfDkolRAVZWJ9kO6Yhre3961bt44cObJr1y7Szw4AAQEB4x6qAZUKpFK4fRskkkEfOmtB9HE4wOGAh8fAx6xZ4OExNt32ly9fBgA/Pz/6EC9HbmCz2YbTfS+//DIAiMViMn8YGhqanp4eExNTWVkZERGxbNky3dck85O+vr4nDLY2PHjwYFZWFq5UdD5OlbMePHjw3Xfftba2rl279vbt22q1eiBTR0ZCWhqIxXD8+Ig3wnc2SiUsXw4yGQgERnvyhhIeHn779u3c3NytW7caWR061pRKkEjg7l39jCyTDfkUkoV1kzLJyOP6M5qMMpvIkmR8WXe3RS1t7lYqlSwW6/333weArKysoqKioqIiBoMRExPz3nvvkedqO0kM11WRhO5U24QhAHCCTK1Wq2/cuNHU1NTS0iKXy+fMmePp6dnX16d/MC6NBsnJEB0NmZmYqQEANBpYswaEwqF68kxwc3OLjY19//33i4uL33zzzbGKSKEwnpGHmh6j0YynY9suC1UN17lv9MxfxeBNH2k02gcffLB169aysrKioqLq6uqsrKzKysqGhgYGgzFv3jwAMNo0TS5ii57zcfhMfejQoTt37rz44oshISEvvPACOVigr69PrVbrd1iTsrq5GcrKICTENuHajy1boKIC2GwoLx/BDlaTJ09ev379yNa5yOUgkcDt2yCVDsrIQ+1QS6fr18gkI9vbNoWk76K5uXmoG0iGlclkGo2GNvhHo0gkAgA6na67+SKLxVq3bt26detEItHy5ctFItGZM2dWr17t5eVFo9HkcrlEItErqxsbGwGAzCsip2LrgfLR+uc//6n9/Mcff/z666+PHDmSmJhYWVlp5O6cHAqA4vPHLx7HmFHMzqYAKDqdqqkZvze5f5+qq6OKiqjMTCo+ngoOpry8+icvjX4wGJSXFxUcTMXFUenpVFERVVdHPZnIdADt7e3k7/3atWtGb1Cr1WRspNSglSQxMRFM9mxER0eDzhxjYGAgGDSZkClNJpM51JQmclwOn6kpirp//35paemePXs2bNjw5z//OScn58CBA+Xl5bprNPp1d1NsNgVgVtfViDhAptb25BUVjcnr6ba+xcVRQUEUj0fR6cO3viUmUpmZVHEx1dBA6Sz7cGBRUVEAwOPx7ty5o72Yk5MTGhqqVqspisrKygIANpvd1NSkvaGiooKU2DVPfnDm5+frlhpdXV2kG0T7M6CiogIAGAyG9nU6OjpIKZ2UlDTe3yayPmfI1P/4xz+ys7MvXrz4ww8/aC9+/fXXugvDBmRljWtZbe+ZWtuT96R113y6rW/mNCOzWAOtb1lZVGkpde0a1dExHt+Vvejo6CCt0HQ6PTg4OCoqigwZ83g87RJEks1pNJqfn19UVBS5HwCynuwj1tXVpe3uSE5O3rZtG3kRvS5s8jp0Oj00NDQiIoJU615eXl2WdhciR+AMmdqo3t7ezZs3f//99/oPaMvqqqrxeF+7ztT37/d/79HRQ92iVlNtbdT581ReHpWcbG4zsq8vFRFBJSVROTkjbEZ2Gl1dXSkpKSS30mg0b2/v9PR0vexZWloqEAhIhwaTyQwNDa0ZPAzV3t4eFxenHbP29vbOzs5WG6zbysrK0t7DYDDi4+MxTTsrh9yf2jRydteVK1f6+vqSk5ON7Nx08CAkJoJAAFVVY/7uVtifWiaDjAwICQGBwJKnKZWwZAkIhSAQwLlzKg2NTOtpe5DNaUbW7UTmcMayGRmNmEwmU6lUDrkTOjKb82TqO3funDt3rqWlhbRRe3l5vfTSS6QVRJ9SCTNngkIBVVUWZrvhjWumlsnggw/g8GFQq/vPHRsWaUa+fatXsjNX8t1jyc8XSOcFSKS0YZuRdVvfSI7GBUMI2Yrz/OebMmXKlClT1q9f//zzzw9zfB+DAYmJkJICqaljnqnHCamj//u/4aef+q+IRINuIM3Iugv2SJn8pBl5AsB/AAB0ATQCPGlG1v147jnbNyMjhIxynpraMgoFzJ4NCgXU1Bg9J9CMF1CIxeJHjx7JBlen27Zt0+5kJhKJSAvtaBjmaGLePFi6dCApm2pGnvyDx4P/85hwx2P9Ug+BB6mR7a0ZGSFkggtl6s7OzsuXLy9durT/69RUSEmB0FAoKRn2uVKp9JtvvhGLxaInlEolj8fjcDh6m8QXFxdrF6FNnDhx6tSpHk/w+fzXX3/d/D0ZhsrRT14cenoGvmQwjI9asC+XQXg4aDRQVASrV5v51gghu+JCmVqtVv/lL38JCwtbtGgRgE5Zfe0aDLGmq7GxsaysrKKiQiqVent783g8LpfL4/E8PT2HSrh649R0Ol0ikdy8eVMikQiFwvPnz3M4nMDAwKCgoFdffXWo/RlIjs7JGeZMsb/8BV58sX9az/gyw8ZG8PcHpRLS02HHDlOvhRCyZzbtPLG2r7/+Ojk5eeBUVnLKSWio7j3d3d2VlZWkR4rH4yUnJ9dYspBP9zgPo116dXV16enppElLIBCkpaXprpLQam2l8vOpuDiKzx+yPc7oMswBd+709+TFxJgfP0LIDrlQplapVGRv5a+//rr/0v37/WvpdJb/JiYm+vn5ZWZmjmxrfIHOFKXpfmryIyE+Pp7FYoWHhxtf/k5RFEV1dVHnz1NpaVRwMMVkDmRqU0eud3X1b8kdGGiF8xMQQuPK+Uc/ZDLZN99809zcLBaL3d3dZ82aJZPJ9u7d298fsmULZGVBeDicOjUmb+fv719dXU0+r6mp8TNjulKlUhUUFOTk5KhUqri4uLVr1xoekKpLJILLl6G+Hrhc2LrV2B0aDaxcCZWVwONBQwPgHpgIOTjnzNR9fX0tLS3ffvttS0vLo0eP2Gw2n8/39PTkcrlubm779u3j8/n9U4syGcyeDRoNtLbCWOwVqZupq6qqBJZ0AdbX1x86dKiioiI8PHz37t2cEfdnbNwIOTnAZkNdHbbdIeQEHPLE22G5ublVVlYqFIqgoKC9e/empqaGhYXNnTuXbHsfEhLyxRdfPH78GACAzYa4PKtW7gAAFL9JREFUONBoYM8eGwcN4Ovre+zYsba2Ng6Hs2DBgtTU1GE3OzZi/37IyQEGA0pKME0j5CRsPfxiG21tbQPzim1tFI1G0WjUWJzZqltEV41ia5E7d+5ERERwOJwii3a8Ky3t3zOpuHjEb40QsjfOWVOboFare3p6ACA1NbWzsxMAgMuFqCg7Kau1OBzOiRMnTpw4kZmZuWTJErJD/DDq6/u/kfR0WLVq/GNECFmJq2TqBw8eVFdXf/jhh1u2bKmoqJg1a1ZISMjEiRP7H37vPaDRoLDQ1AZFtuDn59fQ0BATE7Ny5cqNGzeaGgyRSCAsDJRKiInB1mmEnIxzzihq3bt379KlS7pHLC5YsGDmzJlGbn37bcjPh8REOHBgNO84mhlFExQKxebNm5ubm0+dOmXklDylEnx8QCSCwED48kvcSwkhJ+Pk/6VpNNrjx4+Dg4MXLFigPWLxxo0bDx8+fPXVVwfd+t57kJ8POTmwYweYveDbaphM5rFjx3Jzc5csWZKTkxOiew6kRgNhYSASjeDsWoSQQ3Dy/9XTp09/5513AKCzs7Ouro607vX09MydO/fXv/71oC33uFwIDYXSUsjIGGVZPX5iY2N/9atfvfHGG7W1tR988EH/qakbN8L588Bmw5dfYus0Qk7JyUc/AKCvr2///v1isXjGjBkvvvgiaamuq6tzd3d/6623SN9eP6EQXnoJ6HRobx9xWT1Oox+6FArFmjVrlErliRMnOMePQ1ISMBhQVQU6C9kRQs7E+TM1AIjF4mnTpk2dOlX3YlZWlo+Pj/4YSFgYlJZCUhJ88MHI3ssKmZrIyMigX7+e8MknQKNBcTHojocghJyLS/R+cLlc3TT96NGjS5cu3b17t7e3V//W3bsBAHJyhtzv2W7seP31BLICPj0d0zRCzs3Jx6m1+vr6xGJxU1PTt99+K5PJZsyYMWXKlHv37j169GjatGkD9/H5EBwMFRVw8GB/1rZP2p68uLgh9v5ACDkPV8nUarX6+PHjM2fODAoK8vT0nDx5MgDcuHFj//7977777qB9orduhYqK/mMKTe6UZDNKJSxfDjIZBAXBRx/ZOhqE0LhzidEPAJg4cWJqampMTMzixYtJmgaAuXPnMhiMlpaWQbcKBCAQgEIBBw/aINBhaXvyvLzg1CnsyUPIFbji/3PSUt3S0iIUCpVKpZGFMLt3Q3V1f281nW6LGIeGPXkIuR7XytQdHR2fffZZS0uLu7u7p6dncHAwn88fWFOuRcrq6mrIzYWEBFtEOoSMDMjLAwYDysvxzFqEXIdrZeopU6bMmTMnICBgzpw5bm5uN27cuHTpkpub2/z582fMmDHo1qQkqK6G9HSIjbWXsvrkSUhK6t+fBFunEXIlrpWp3dzcyAECMpns448/vn37NpvNnjlzZmVlZVBQUEBAwMCty5YBnw9Cob2U1bW1EB0NgD15CLkiV5lR1FNQUDBt2rStW7e6u7vHxMSkpqbW1tbeuXNn0E0pKQAA6enDnBBuBWIxvPEGqFTYk4eQa3LRTH3r1q3o6Oi5c+dOmzatrq5u0qRJv/rVr5qamgbdFBICfD7IZHDypI3CBAAAhQJWrsSePIRcmYtmajab3d7eDgCrVq2qrKxUKpVCoXD69On695GyOi0NNBqrxwgAOj15fD725CHkslw0U7/55ptHjhz57LPPlErlnDlz3n33XTabvWjRIv37QkKAywWxGI4ft0WYAOvXQ3U19uQh5OJcNFN7enpu3759woQJTU1NYWFh8fHxMTExg/bV00pOBrBRWb1nD+TnA4MBX35ph1tmI4SsxkUzNQCw2exVq1aFhIRMnjx57ty5Q94XGdlfVlt5tPrkSUhOBhoNioqAz7fqWyOE7IzrZmpz0Wj9ZXVmpjm3s1isMXhTbU9eVhasWDEGL4gQcmSYqc1AymqhEMrKhr2XMfrRZG1PXnw8bNo02ldDCDk+zNRmoNEgPh7gSSuI2W7fvm3xe2l78oKD7faQMISQlWGmNk9sLLDZZpbVI6fRwMqV/T15J05gTx5CiMBMbR46HZKSAADS0sbxXd5+G2prsScPIaQHM7XZSFnd2AhPjkkcY6mpUFiIPXkIIUOYqc2mLatTU8f+xY8fh5QU7MlDCBmFmdoSa9cCkwnV1WNcVmNPHkLIJMzUlmAyITERYEzLapEIwsJAo4Ft27AnDyFkFGZqC5FjcKurob5+DF5NLoewMJDLITQUPvhgDF4QIeSMMFNbSFtWZ2SM9qW0++R5e8OxY9iThxAaCmZqyyUkAIMBpaUgFI7qdUhPHocD5eXYk4cQMgEzteWYTIiJARjdaDX25CGEzIaZekR27AA6feRltbYnr7gYvLzGOjiEkLPBTD0ibDbExQGMaLRa25OXnQ3Llo1xYAghZ4SZeqRIWV1cDGKxBc/S7cmLjR234BCyX0ql0tYhOB7M1CPFZkNMDGg0sGePuU+RyWDlSuzJQy5u//79//Zv/7Zr1y7hKOfkXQlm6lFISAAaDQoLzSqrVSp44w0Qi7EnDyGxWJyWlvbSSy9hyjYTZupR4HIhKsrcshp78hAygCnbTJipR+e99/q3VZLJTN22axcUFWFPHkJDwZRtGmbq0SFltUplqgmkoADS0oBGg9JS7MlDyDRM2UZhph61rVsBAHJyjJfV1dX9y2RyciAgwKqBIeTIMGXrwnmtUfPygtBQKC2FjAy9kw+n3L8PiYmg0UBSEqxbZ6sAkYuTyWQqlcqip0ilUo1GY/79vb29UqnUzJstzbkkZaelpXG53IiIiFWrVvFdbw/3pyiKsnUMjk8ohJdeAjod2tvf3rkzPz8fAFgAt5599ufffw/h4XDqlK1DtBKVSiUzPWRvQKlUyuVyi57y6NEjS3tyR5CtJBKJRfdrNBrzsxUxgu9doVAoFAqLnuJ8XDBlY6YeI2FhUFoKKSlvSyQkU9MAvpg1a35v77E//OGnn/3M9LNH8N9PLpdbmq0sLZTA8myFkDXFxcUdOHCATqfbOpBxh5l6jAiF8NJL6n/5l1WLFpXX1GgvMwFcvf5BaKxxOJzo6Oh169Z5eHjYOhYrwUw9Zu6+8srJy5f3AEx89tn79+/bOhyEAADodDrbwsZQJpPJZDItegqLxWKYvUpAKBSObHqQRqOFhoZGR0cvW7aM5mJrx1zrux0/Fy5cCGpo0PT1AQC4cJpms9mW/ipqaVlEo9E4HI5FT2EwGCwWy6KnjCBbsdnsiRMnWvQUDodjUcYZwfduh1JTUy3N1DweLyYmJjIy0tKfOk4DM/UYqK2tDQ0N1Q4BT5gwYdWqVS+88IL5r2BptqLT6c8++6xFTxlBtrKoUEJozNHp9IiIiHXr1vn5+dk6FhvDTD1atbW1y5cv153cO3r06Nq1a20YEkKOztvbmxTRWCsQmKlHxTBNZ2VlYZpGaGRYLFZERERsbKwXruYdDDP1yIlEIsM0nZCQYMOQEHJQgYGBMTExISEhrtByNwKYqUdIJBL5+/tjmkZoNFyw325kMFOPBEnTuovxUlJSME0jZCZX7rcbGeyntphhmk5MTDwweMcPhNBQmpubWSyWy/bbjQxmasvIZLLFixfrrrHGNI0QGm+466kFZDKZv78/pmmEkJVhTW0ukqZFIpH2SlRU1LFjx2wYEkLIRWCmNothmg4PDz9x4gROhiCErABHP4anVCpXrlyJaRohZCuYqYehVCqXL1/e2NiovYJpGiFkZTj6YQpJ07W1tdorfn5+VVVVmKYRMmrLli3kTIzw8PAVK1YYvSc1NZVMywcGBkZGRlo1PoeFmXpIRtP0l19+iVvGIDSU3NzcuLg4AGAwGG1tbYZN0wUFBdHR0QBAp9NbW1txaaKZcPTDOI1G89Zbb2GaRsgi69at8/b2BgClUpmamqr3qEqlSklJIZ8nJSVhmjYf1tRGaDSaNWvWFBcXa69gmkbITLW1tUuWLAEAGo3W2trK5XK1D+3fv3/btm0A4OHh0draipsxmQ9ran2GaZrH45WUlGCaRsgcfn5+UVFRAKDRaLZv3669rlAo0tLSyOdZWVmYpi2CmXoQo2m6qqrK0tNSEHJl+/btI2eblZaWVldXk4t79uwhk41BQUEhISG2jM8BYaYeZPv27YZpGreSQcgibDZbOx69c+dOAJBIJNnZ2QBAp9M/+ugjWwbnmDBTD9iyZUtWVpb2S0zTCI3Ypk2beDweANTX15eVlaWmpqpUKgBITEzUHblGZsIZxX56aZrNZtfU1OA/KYRG7MKFC4GBgQDg6+srFApVKhWHw2ltbcUpnxHAmhoAYPv27XppuqqqCtM0QqMREBAQEREBAPX19aSgzszMxDQ9MlhTw8GDBxMTE7VfkjRNfnFDCI2GVCqdP38+OcQuMDDw3Llzto7IUbl6TY1pGqHxw+FwyEIYAPDz87NtMA7NpTO1XppmMBinTp3CNI0Qsjeum6kPHTqkl6a//PJL/LGPELJDLpqpT58+jWkaIeQoXDFTnz59OiIiQqPRkC/pdDqmaYSQPXO5TK2Xpmk0WmFhIaZphJA9c60d8c+cOaOXpouKilatWmXbqBByYnw+n3yCe5yOhgv1U9fW1i5fvpy0dgKmaYSQ43CVTK2XpgGguLgY0zRCyCG4xDi1YZrOysrCNI0QchTOX1MLhcIlS5bopemEhAQbhoQQQhZx8ppaJBIZVtOYphFCjsWZM7VIJPL395fJZNor6enpmKYRQg7HaUc/DNN0YmLigQMHbBgSQgiNjHNmaqlU6uPjg2kaIeQcnHD0QyaTLV26FNM0QshpOFtNLZPJ/P39RSKR9kpMTMyRI0dsGBJCCI2SU2VqwzQdHh5+4sQJGs21Fs0jhJyM82RqpfL/b+/+QZt4/wCOn3BDhxscOtwQoYUOKWRoIA6BCA1WJJigYkULHQQRC62YUEXBDhV1CChNkUIXUaiiQkuFWC4SShwCFdKhg2CGgBUcMjh0OKHDDd/hfr8j5GpyaS+5P32/ptz1uDzTmw9Pk5wajUa/f/9unCHTAPzBJ/vUqqomEgkyDcCX/DBT65kul8vGmbGxMUVRyDQAf/D8TG3OdCwWW19fJ9MAfMPbpdY07erVq02ZVhRFkiQHVwUA9vJwqTVNm5iYKBQKxhkyDcCXvLpPrWd6dXXVOBMKhba2tsg0AP/x5ExtznQwGCwWi2QagC95stR37txpynSpVJJl2cElAUD3eK/UmUxmeXnZOCTTAHzPY/vUmUwml8sZh7IsVyqVQCDg4JIAoNu8NFObM10qlcg0AN/zTKmz2aw508Fg0MElAUBveGP3Y3FxMZ1OG4dkGsCx4oGZuinTkiTl83kyDeD4cHupzZlWFCUSiTi4JADoMVfvfqytrY2PjxuHeqZjsZiDSwKA3nPvTL22tnb9+nXjkEwDOLZcWmo905qm6YeiKL59+5ZMAzie3Fhqc6Y/fPhw8eJFZ1cFAE5x3T51uVxOJBKqquqHeqavXLni7KoAwEHumqnJNACYuajUTZkWBCGXy5FpAHBLqb99+2bO9PT0tINLAgCXcMU+dbVajcfj9XrdOJPL5e7evevgkgDAPZyfqck0ALTmcKnNmU6n02QaABo5uftRq9XOnDnTlOmFhQWn1gMA7uTYTF2v11OpFJkGgLacmanr9Xo8Hq9Wq8aZmZmZly9f9n4lAOB+DpTanOnx8fH379+LotjjlQCAJ/S61Ht7e9FolEwDgHU93adWVTWVSpFpAOhI72ZqVVUTiUS5XDbOJJPJ9fV1Mg0ArfWo1OZMx2IxRVEkSerBuwOAp/Wi1JqmnTt37uvXr8YZMg0A1nV9n1rTtImJCTINAIfW3Zlaz/Tq6qpxJhKJlEolMg0A1nVxpjZnOhgM5vN5Mg0AHeliqW/dutWU6VKpJMty994RAHypW6XOZDJv3rwxDsk0ABxaV/apM5lMLpczDgOBQKVSIdMAcDj2z9RNmZZluVgskmkAOLTDlPrLly+N32Fp9Pjx46ZMl0qlYDB4yNUBAA63+xEOh2u1mqIosVis8fzi4mI6nTYOyTQA2KLjmXpzc3NnZ8f87fCmTEuSVCwWyTQAHF3HpX769Kn+ojHW5kwrihIKhexaJQAcZ53tfmxvb58+fbrxjCRJmUzmyZMnjWfMGyMAgEPrrNSXL1/+9OlTiwvINADYroNSV6vV4eHhFheIolgoFM6ePWvHwgAA/9PBPnU2m219wfz8PJkGANtZnal///49ODioaVqLa9j6AIBusDpTv3jxonWmhYMe7AIAODpLM/WfP39OnTq1v79v5Y5M1gBgL0tPm11aWrKYaeH/k7XFWGez2UKh0PayhYWFkZERiwsAAJ9pX2pVVRt/ysMK67GuVquND+5qccOOFgAAftK+1K9evdrb2+v0vkNDQ3///m17WX9//8DAwIF/2t3d1V8MDAxEIpFOFwAAvtFmn3p/f39wcLBer1u/4+jo6Nzc3BE/rvfu3bvJyUlBEERRLBaLo6OjR7kbAHham5n648eP1jN96dKlR48eHX3+3d3dnZqa0l/fu3ePTAM45lrN1JqmDQ8P12q11rcQRXFycvLBgwe2/HKepmnxeFz/qF8kEtna2hJFS//2BAC/ahXBjY2N1pnu6+ubmpqanZ0NBAJ2LSibzeqZliRpZWWFTANAq5k6HA7v7Owc+KeTJ0+m0+np6en+/n4bV7O9vR2NRvWv2CwvL9++fdvGmwOAR/2z1Jubm2NjY+bzsiw/fPjw5s2bkiTZuxRVVfWnyQiCkEwm8/m8vfcHAI/6596C8cQAw9DQ0Nzc3LVr1/r6+rqxlPv37+uZlmX59evX3XgLAPCig2fqpicGjIyMzM/PX7hwoXu7xhsbG8lkUn9dKBTOnz/fpTcCAM85uLzPnj3TX9jy4ei26vX6jRs39NczMzNkGgAaHTBT608MsOvD0VakUqnPnz8LghAKhSqVSpd2VwDAow6YqX/9+vXjx4+ePVZ8aWlJz7QoiisrK2QaAJp09hxF21Wr1XA4rP9Q3/Pnz2dnZx1cDAC4k8OlbvzI9r9+qkkQhJ8/f/ZqRQDgOg6X+sSJE1Yuc3aRAOAsh7+rbXzkAwDwL/8BSwC1KjwcLGQAAAAASUVORK5CYII=)\u0000"
      ]
    },
    {
      "attachments": {},
      "cell_type": "markdown",
      "metadata": {},
      "source": [
        "Однако возникает вопрос: как быстрее всего найти среди 10 000 книг наиболее похожую? Не перебирать же их все! На помощь приходит **метод ближайших соседей** (*approximate k-nn*), который реализован в библиотеке [NMSLIB](https://github.com/nmslib/nmslib).\n",
        "\n",
        "**Non-Metric Space Library (NMSLIB)** — это эффективная кроссплатформенная библиотека поиска сходства и инструментарий для оценки методов поиска сходства. Основная библиотека не имеет никаких сторонних зависимостей. В последнее время она набирает популярность: например, она стала частью сервиса [Amazon Elasticsearch](https://aws.amazon.com/about-aws/whats-new/2020/03/build-k-nearest-neighbor-similarity-search-engine-with-amazon-elasticsearch-service/). Подробнее о библиотеке вы можете узнать [здесь](https://github.com/nmslib/nmslib).\n",
        "\n",
        "В основе метода лежит идея о том, что вместо того чтобы перебирать все векторы, мы можем очень быстро обходить граф, каждая вершина которого соответсвует эмбеддингу книги.\n",
        "\n",
        "> **Примечание.** Мы не будем сейчас затрагивать процесс построения этого графа, который реализуется в библиотеке, вынеся эти тонкости в часть образовательной программы трека «*ML-инженер*». С кратким описанием алгоритма построения и обхода графа вы можете познакомиться в [этой статье](https://habr.com/ru/company/vk/blog/338360/). Для любознательных — со всеми математическими выкладками библиотеки *NMSLIB* можно познакомиться в [оригинальной статье](https://arxiv.org/pdf/1508.05470.pdf)."
      ]
    },
    {
      "attachments": {},
      "cell_type": "markdown",
      "metadata": {},
      "source": [
        "![image.png](data:image/png;base64,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)\u0000"
      ]
    },
    {
      "cell_type": "code",
      "execution_count": null,
      "metadata": {},
      "outputs": [],
      "source": [
        "#!pip install nmslib"
      ]
    },
    {
      "attachments": {},
      "cell_type": "markdown",
      "metadata": {},
      "source": [
        "После установки импортируем её и выполним необходимые преобразования:\n",
        "\n",
        "* Инициализируем граф для поиска. В терминах библиотеки это называется **NMSLIB-индекс**. Для инициализации этого объекта используется функция [init()](https://nmslib.github.io/nmslib/api.html#nmslib-init). Дальнейшие методы вызываются от имени этого объекта.\n",
        "\n",
        "> **Примечание.** Методика похожа на работу с *DataFrame*: сначала мы создаём объект класса *DataFrame*, а затем работаем с ним при помощи методов.\n",
        "\n",
        "* Добавим на этот граф вершины — наши эмбеддинги. Для этого используем метод [addDataPointBatch()](https://nmslib.github.io/nmslib/api.html#nmslib.dist.FloatIndex.addDataPointBatch).\n",
        "\n",
        "* Создадим индекс и сделаем его доступным для поиска. Для этого используется метод [createIndex()](https://nmslib.github.io/nmslib/api.html#nmslib.dist.FloatIndex.createIndex)."
      ]
    },
    {
      "cell_type": "code",
      "execution_count": 28,
      "metadata": {
        "id": "bi1DHdBKhio3"
      },
      "outputs": [],
      "source": [
        "import nmslib"
      ]
    },
    {
      "cell_type": "code",
      "execution_count": 29,
      "metadata": {
        "id": "NscQUR47hio3"
      },
      "outputs": [
        {
          "name": "stderr",
          "output_type": "stream",
          "text": [
            "\n",
            "0%   10   20   30   40   50   60   70   80   90   100%\n",
            "|----|----|----|----|----|----|----|----|----|----|\n",
            "***************************************************\n"
          ]
        }
      ],
      "source": [
        "#Инициализируем наш граф для поиска\n",
        "nms_idx = nmslib.init(method='hnsw', space='cosinesimil')\n",
        " \n",
        "#Начинаем добавлять наши книги в граф\n",
        "nms_idx.addDataPointBatch(item_embeddings)\n",
        "nms_idx.createIndex(print_progress=True)"
      ]
    },
    {
      "attachments": {},
      "cell_type": "markdown",
      "metadata": {},
      "source": [
        "Теперь давайте напишем вспомогательную функцию для поиска с помощью *nmslib*. Для этого используется метод [knnQuery()](https://nmslib.github.io/nmslib/api.html#nmslib.dist.FloatIndex.createIndex): он позволяет найти *K* ближайших соседей вектора в индексе (в графе). Для его вызова необходимо указать следующие параметры:\n",
        "\n",
        "`knnQuery(vector: object, k: int=10)`\n",
        "\n",
        "* `vector` — вектор признаков (эмбеддинг), по которому нужно искать похожие книги;\n",
        "* `k` — количество искомых ближайших соседей (мы возьмём десять).\n",
        "\n",
        "Метод возвращает кортеж из двух массивов:\n",
        "\n",
        "* `ids` — массив из идентификаторов ближайших соседей;\n",
        "* `distances` — массив, элементами которого являются вычисленные расстояния от соседей до заданного вектора."
      ]
    },
    {
      "cell_type": "code",
      "execution_count": 30,
      "metadata": {
        "id": "tCtnO4s9hio3"
      },
      "outputs": [],
      "source": [
        "#Вспомогательная функция для поиска по графу\n",
        "def nearest_books_nms(book_id, index, n=10):\n",
        "    nn = index.knnQuery(item_embeddings[book_id], k=n)\n",
        "    return nn"
      ]
    },
    {
      "attachments": {},
      "cell_type": "markdown",
      "metadata": {},
      "source": [
        "### **АНАЛИЗ РЕКОМЕНДАЦИЙ ПОСТРОЕННОЙ МОДЕЛИ**"
      ]
    },
    {
      "attachments": {},
      "cell_type": "markdown",
      "metadata": {
        "id": "1PMM_uHfhio4"
      },
      "source": [
        "Теперь, когда у нас есть функция для поиска десяти наиболее похожих книг, давайте попробуем написать рекомендации к какой-нибудь книге, например к роману «1984» Джорджа Оруэлла. Для этого воспользуемся частичным поиском по неполным совпадениям в столбце *title*. Уберём чувствительность к регистру, приведя оригинальные названия к нижнему регистру."
      ]
    },
    {
      "cell_type": "code",
      "execution_count": 31,
      "metadata": {
        "id": "Da3eHj7chio5"
      },
      "outputs": [
        {
          "data": {
            "text/html": [
              "<div>\n",
              "<style scoped>\n",
              "    .dataframe tbody tr th:only-of-type {\n",
              "        vertical-align: middle;\n",
              "    }\n",
              "\n",
              "    .dataframe tbody tr th {\n",
              "        vertical-align: top;\n",
              "    }\n",
              "\n",
              "    .dataframe thead th {\n",
              "        text-align: right;\n",
              "    }\n",
              "</style>\n",
              "<table border=\"1\" class=\"dataframe\">\n",
              "  <thead>\n",
              "    <tr style=\"text-align: right;\">\n",
              "      <th></th>\n",
              "      <th>book_id</th>\n",
              "      <th>goodreads_book_id</th>\n",
              "      <th>best_book_id</th>\n",
              "      <th>work_id</th>\n",
              "      <th>books_count</th>\n",
              "      <th>isbn</th>\n",
              "      <th>isbn13</th>\n",
              "      <th>authors</th>\n",
              "      <th>original_publication_year</th>\n",
              "      <th>original_title</th>\n",
              "      <th>...</th>\n",
              "      <th>ratings_count</th>\n",
              "      <th>work_ratings_count</th>\n",
              "      <th>work_text_reviews_count</th>\n",
              "      <th>ratings_1</th>\n",
              "      <th>ratings_2</th>\n",
              "      <th>ratings_3</th>\n",
              "      <th>ratings_4</th>\n",
              "      <th>ratings_5</th>\n",
              "      <th>image_url</th>\n",
              "      <th>small_image_url</th>\n",
              "    </tr>\n",
              "  </thead>\n",
              "  <tbody>\n",
              "    <tr>\n",
              "      <th>12</th>\n",
              "      <td>13</td>\n",
              "      <td>5470</td>\n",
              "      <td>5470</td>\n",
              "      <td>153313</td>\n",
              "      <td>995</td>\n",
              "      <td>451524934</td>\n",
              "      <td>9.780452e+12</td>\n",
              "      <td>George Orwell, Erich Fromm, Celâl Üster</td>\n",
              "      <td>1949.0</td>\n",
              "      <td>Nineteen Eighty-Four</td>\n",
              "      <td>...</td>\n",
              "      <td>1956832</td>\n",
              "      <td>2053394</td>\n",
              "      <td>45518</td>\n",
              "      <td>41845</td>\n",
              "      <td>86425</td>\n",
              "      <td>324874</td>\n",
              "      <td>692021</td>\n",
              "      <td>908229</td>\n",
              "      <td>https://images.gr-assets.com/books/1348990566m...</td>\n",
              "      <td>https://images.gr-assets.com/books/1348990566s...</td>\n",
              "    </tr>\n",
              "    <tr>\n",
              "      <th>845</th>\n",
              "      <td>846</td>\n",
              "      <td>5472</td>\n",
              "      <td>5472</td>\n",
              "      <td>2966408</td>\n",
              "      <td>51</td>\n",
              "      <td>151010269</td>\n",
              "      <td>9.780151e+12</td>\n",
              "      <td>George Orwell, Christopher Hitchens</td>\n",
              "      <td>1950.0</td>\n",
              "      <td>Animal Farm &amp; 1984</td>\n",
              "      <td>...</td>\n",
              "      <td>116197</td>\n",
              "      <td>118761</td>\n",
              "      <td>1293</td>\n",
              "      <td>1212</td>\n",
              "      <td>3276</td>\n",
              "      <td>16511</td>\n",
              "      <td>40583</td>\n",
              "      <td>57179</td>\n",
              "      <td>https://images.gr-assets.com/books/1327959366m...</td>\n",
              "      <td>https://images.gr-assets.com/books/1327959366s...</td>\n",
              "    </tr>\n",
              "    <tr>\n",
              "      <th>9795</th>\n",
              "      <td>9796</td>\n",
              "      <td>201145</td>\n",
              "      <td>201145</td>\n",
              "      <td>2563528</td>\n",
              "      <td>25</td>\n",
              "      <td>64440508</td>\n",
              "      <td>9.780064e+12</td>\n",
              "      <td>Else Holmelund Minarik, Maurice Sendak</td>\n",
              "      <td>1968.0</td>\n",
              "      <td>A Kiss for Little Bear</td>\n",
              "      <td>...</td>\n",
              "      <td>11063</td>\n",
              "      <td>11604</td>\n",
              "      <td>126</td>\n",
              "      <td>87</td>\n",
              "      <td>284</td>\n",
              "      <td>1898</td>\n",
              "      <td>3053</td>\n",
              "      <td>6282</td>\n",
              "      <td>https://s.gr-assets.com/assets/nophoto/book/11...</td>\n",
              "      <td>https://s.gr-assets.com/assets/nophoto/book/50...</td>\n",
              "    </tr>\n",
              "  </tbody>\n",
              "</table>\n",
              "<p>3 rows × 23 columns</p>\n",
              "</div>"
            ],
            "text/plain": [
              "      book_id  goodreads_book_id  best_book_id  work_id  books_count  \\\n",
              "12         13               5470          5470   153313          995   \n",
              "845       846               5472          5472  2966408           51   \n",
              "9795     9796             201145        201145  2563528           25   \n",
              "\n",
              "           isbn        isbn13                                  authors  \\\n",
              "12    451524934  9.780452e+12  George Orwell, Erich Fromm, Celâl Üster   \n",
              "845   151010269  9.780151e+12      George Orwell, Christopher Hitchens   \n",
              "9795   64440508  9.780064e+12   Else Holmelund Minarik, Maurice Sendak   \n",
              "\n",
              "      original_publication_year          original_title  ... ratings_count  \\\n",
              "12                       1949.0    Nineteen Eighty-Four  ...       1956832   \n",
              "845                      1950.0      Animal Farm & 1984  ...        116197   \n",
              "9795                     1968.0  A Kiss for Little Bear  ...         11063   \n",
              "\n",
              "     work_ratings_count  work_text_reviews_count  ratings_1  ratings_2  \\\n",
              "12              2053394                    45518      41845      86425   \n",
              "845              118761                     1293       1212       3276   \n",
              "9795              11604                      126         87        284   \n",
              "\n",
              "      ratings_3  ratings_4  ratings_5  \\\n",
              "12       324874     692021     908229   \n",
              "845       16511      40583      57179   \n",
              "9795       1898       3053       6282   \n",
              "\n",
              "                                              image_url  \\\n",
              "12    https://images.gr-assets.com/books/1348990566m...   \n",
              "845   https://images.gr-assets.com/books/1327959366m...   \n",
              "9795  https://s.gr-assets.com/assets/nophoto/book/11...   \n",
              "\n",
              "                                        small_image_url  \n",
              "12    https://images.gr-assets.com/books/1348990566s...  \n",
              "845   https://images.gr-assets.com/books/1327959366s...  \n",
              "9795  https://s.gr-assets.com/assets/nophoto/book/50...  \n",
              "\n",
              "[3 rows x 23 columns]"
            ]
          },
          "execution_count": 31,
          "metadata": {},
          "output_type": "execute_result"
        }
      ],
      "source": [
        "#Отфильтруем только те, где в названии встречается подстрока \"1984\"\n",
        "books[books['title'].apply(lambda x: x.lower().find('1984')) >= 0]"
      ]
    },
    {
      "attachments": {},
      "cell_type": "markdown",
      "metadata": {
        "id": "2hxEWTJghio5"
      },
      "source": [
        "Видим, что у нас есть три совпадения, где в названиях встречается \"1984\".\n",
        "\n",
        "Давайте возьмём книгу с `book_id` 846. Это книга, в которую включены повесть «Скотный двор» (\"*Animal Farm*\") и роман-антиутопия «1984».\n",
        "\n",
        "Найдём похожие книги — для этого воспользуемся написанной ранее функцией:"
      ]
    },
    {
      "cell_type": "code",
      "execution_count": 32,
      "metadata": {},
      "outputs": [
        {
          "name": "stdout",
          "output_type": "stream",
          "text": [
            "(array([ 846,   14,   55,   13,  809,   48,  529, 8140,  271,   28],\n",
            "      dtype=int32), array([0.        , 0.03879946, 0.04731965, 0.06963301, 0.07667887,\n",
            "       0.08105701, 0.08562124, 0.09757084, 0.106058  , 0.10751975],\n",
            "      dtype=float32))\n"
          ]
        }
      ],
      "source": [
        "#Вызываем функцию для поиска ближайших соседей\n",
        "print(nearest_books_nms(846, nms_idx))"
      ]
    },
    {
      "attachments": {},
      "cell_type": "markdown",
      "metadata": {},
      "source": [
        "Как мы говорили ранее, наша функция возвращает кортеж из двух массивов: *numpy*-вектор идентификаторов и *numpy*-вектор мер схожести (расстояний) между заданной книгой и её ближайшими соседями.\n",
        "\n",
        "Пока что нас интересуют только идентификаторы— выделим их в отдельную переменную:"
      ]
    },
    {
      "cell_type": "code",
      "execution_count": 33,
      "metadata": {
        "id": "vaVVOV9Whio6"
      },
      "outputs": [
        {
          "data": {
            "text/plain": [
              "array([ 846,   14,   55,   13,  809,   48,  529, 8140,  271,   28],\n",
              "      dtype=int32)"
            ]
          },
          "execution_count": 33,
          "metadata": {},
          "output_type": "execute_result"
        }
      ],
      "source": [
        "#Выделяем идентификаторы рекомендованных книг\n",
        "nbm = nearest_books_nms(846, nms_idx)[0]\n",
        "nbm"
      ]
    },
    {
      "attachments": {},
      "cell_type": "markdown",
      "metadata": {},
      "source": [
        "> **Примечание**. Обратите внимание, что ближайшей к заданной книге всегда будет она сама, поэтому идентификатор этой книги всегда будет первым в списке рекомендаций. Пока что мы закроем на это глаза, однако в дальнейшем при разработке прототипа приложения мы исправим этот момент.\n",
        "\n",
        "Посмотрим на рекомендованные нам книги. Найдём идентификаторы книг, которые находятся в списке `nbm`:"
      ]
    },
    {
      "cell_type": "code",
      "execution_count": 34,
      "metadata": {
        "id": "hTred3b8hio6"
      },
      "outputs": [
        {
          "data": {
            "text/html": [
              "<div>\n",
              "<style scoped>\n",
              "    .dataframe tbody tr th:only-of-type {\n",
              "        vertical-align: middle;\n",
              "    }\n",
              "\n",
              "    .dataframe tbody tr th {\n",
              "        vertical-align: top;\n",
              "    }\n",
              "\n",
              "    .dataframe thead th {\n",
              "        text-align: right;\n",
              "    }\n",
              "</style>\n",
              "<table border=\"1\" class=\"dataframe\">\n",
              "  <thead>\n",
              "    <tr style=\"text-align: right;\">\n",
              "      <th></th>\n",
              "      <th>authors</th>\n",
              "      <th>title</th>\n",
              "    </tr>\n",
              "  </thead>\n",
              "  <tbody>\n",
              "    <tr>\n",
              "      <th>12</th>\n",
              "      <td>George Orwell, Erich Fromm, Celâl Üster</td>\n",
              "      <td>1984</td>\n",
              "    </tr>\n",
              "    <tr>\n",
              "      <th>13</th>\n",
              "      <td>George Orwell</td>\n",
              "      <td>Animal Farm</td>\n",
              "    </tr>\n",
              "    <tr>\n",
              "      <th>27</th>\n",
              "      <td>William Golding</td>\n",
              "      <td>Lord of the Flies</td>\n",
              "    </tr>\n",
              "    <tr>\n",
              "      <th>47</th>\n",
              "      <td>Ray Bradbury</td>\n",
              "      <td>Fahrenheit 451</td>\n",
              "    </tr>\n",
              "    <tr>\n",
              "      <th>54</th>\n",
              "      <td>Aldous Huxley</td>\n",
              "      <td>Brave New World</td>\n",
              "    </tr>\n",
              "    <tr>\n",
              "      <th>270</th>\n",
              "      <td>Daniel Keyes</td>\n",
              "      <td>Flowers for Algernon</td>\n",
              "    </tr>\n",
              "    <tr>\n",
              "      <th>528</th>\n",
              "      <td>Jonathan Swift, Robert DeMaria Jr.</td>\n",
              "      <td>Gulliver's Travels</td>\n",
              "    </tr>\n",
              "    <tr>\n",
              "      <th>808</th>\n",
              "      <td>Aldous Huxley, Christopher Hitchens</td>\n",
              "      <td>Brave New World / Brave New World Revisited</td>\n",
              "    </tr>\n",
              "    <tr>\n",
              "      <th>845</th>\n",
              "      <td>George Orwell, Christopher Hitchens</td>\n",
              "      <td>Animal Farm / 1984</td>\n",
              "    </tr>\n",
              "    <tr>\n",
              "      <th>8139</th>\n",
              "      <td>Aldous Huxley</td>\n",
              "      <td>Brave New World Revisited</td>\n",
              "    </tr>\n",
              "  </tbody>\n",
              "</table>\n",
              "</div>"
            ],
            "text/plain": [
              "                                      authors  \\\n",
              "12    George Orwell, Erich Fromm, Celâl Üster   \n",
              "13                              George Orwell   \n",
              "27                            William Golding   \n",
              "47                               Ray Bradbury   \n",
              "54                              Aldous Huxley   \n",
              "270                              Daniel Keyes   \n",
              "528        Jonathan Swift, Robert DeMaria Jr.   \n",
              "808       Aldous Huxley, Christopher Hitchens   \n",
              "845       George Orwell, Christopher Hitchens   \n",
              "8139                            Aldous Huxley   \n",
              "\n",
              "                                            title  \n",
              "12                                           1984  \n",
              "13                                    Animal Farm  \n",
              "27                              Lord of the Flies  \n",
              "47                                 Fahrenheit 451  \n",
              "54                                Brave New World  \n",
              "270                          Flowers for Algernon  \n",
              "528                            Gulliver's Travels  \n",
              "808   Brave New World / Brave New World Revisited  \n",
              "845                            Animal Farm / 1984  \n",
              "8139                   Brave New World Revisited   "
            ]
          },
          "execution_count": 34,
          "metadata": {},
          "output_type": "execute_result"
        }
      ],
      "source": [
        "#Посмотрим на авторов и названия рекомендованных книг\n",
        "books[books.book_id.isin(nbm)][['authors', 'title']]"
      ]
    },
    {
      "attachments": {},
      "cell_type": "markdown",
      "metadata": {
        "id": "FV45_3xhhio7"
      },
      "source": [
        "Как можно увидеть, в результатах есть действительно похожие книги. Первыми идут отдельные книги — «1984» и «Скотный двор» (\"*Animal Farm*\"). Далее следуют «451 градус по Фаренгейту» Рэя Брэдбери (\"*Fahrenheit 451*\") и «О дивный новый мир» Олдоса Хаксли (\"*Brave New World*\"), которые также являются антиутопиями.\n",
        "\n",
        "Не забудьте сохранить полученные эмбеддинги — они пригодятся в дальнейшем при реализации прототипа:"
      ]
    },
    {
      "cell_type": "code",
      "execution_count": 35,
      "metadata": {
        "id": "UUk-Xx4Zhio7"
      },
      "outputs": [],
      "source": [
        "with open('item_embeddings.pkl', 'wb') as file:\n",
        "    pickle.dump(item_embeddings, file, protocol=pickle.HIGHEST_PROTOCOL)"
      ]
    },
    {
      "attachments": {},
      "cell_type": "markdown",
      "metadata": {},
      "source": [
        "Итак, за пару десятков строк кода мы написали свою рекомендательную систему. Отлично! Следующим этапом будет создание визуального прототипа для нашей модели."
      ]
    }
  ],
  "metadata": {
    "colab": {
      "provenance": []
    },
    "kernelspec": {
      "display_name": "Python 3.7.15 ('rec_sys')",
      "language": "python",
      "name": "python3"
    },
    "language_info": {
      "codemirror_mode": {
        "name": "ipython",
        "version": 3
      },
      "file_extension": ".py",
      "mimetype": "text/x-python",
      "name": "python",
      "nbconvert_exporter": "python",
      "pygments_lexer": "ipython3",
      "version": "3.10.6"
    },
    "vscode": {
      "interpreter": {
        "hash": "4e4104bd57aa2b23b5ece499e6a495477546c5bc7859abce1e85f57e6cf8bee2"
      }
    }
  },
  "nbformat": 4,
  "nbformat_minor": 0
}
